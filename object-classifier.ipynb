{
 "cells": [
  {
   "cell_type": "code",
   "execution_count": 2,
   "metadata": {
    "_cell_guid": "b1076dfc-b9ad-4769-8c92-a6c4dae69d19",
    "_uuid": "8f2839f25d086af736a60e9eeb907d3b93b6e0e5",
    "execution": {
     "iopub.execute_input": "2023-12-13T02:33:48.669231Z",
     "iopub.status.busy": "2023-12-13T02:33:48.668829Z",
     "iopub.status.idle": "2023-12-13T02:34:02.440728Z",
     "shell.execute_reply": "2023-12-13T02:34:02.439857Z",
     "shell.execute_reply.started": "2023-12-13T02:33:48.669201Z"
    }
   },
   "outputs": [
    {
     "name": "stderr",
     "output_type": "stream",
     "text": [
      "/opt/conda/lib/python3.10/site-packages/scipy/__init__.py:146: UserWarning: A NumPy version >=1.16.5 and <1.23.0 is required for this version of SciPy (detected version 1.24.3\n",
      "  warnings.warn(f\"A NumPy version >={np_minversion} and <{np_maxversion}\"\n"
     ]
    }
   ],
   "source": [
    "import os\n",
    "import numpy as np\n",
    "from PIL import Image\n",
    "from sklearn.model_selection import train_test_split\n",
    "from sklearn.preprocessing import LabelEncoder\n",
    "from tensorflow.keras import layers, models, utils"
   ]
  },
  {
   "cell_type": "code",
   "execution_count": 3,
   "metadata": {
    "execution": {
     "iopub.execute_input": "2023-12-13T02:34:02.442925Z",
     "iopub.status.busy": "2023-12-13T02:34:02.442282Z",
     "iopub.status.idle": "2023-12-13T02:34:02.449802Z",
     "shell.execute_reply": "2023-12-13T02:34:02.448629Z",
     "shell.execute_reply.started": "2023-12-13T02:34:02.442894Z"
    }
   },
   "outputs": [],
   "source": [
    "def load_and_preprocess_images(folder_path, label):\n",
    "    images = []\n",
    "    labels = []\n",
    "\n",
    "    for img_name in os.listdir(folder_path):\n",
    "        img_path = os.path.join(folder_path, img_name)\n",
    "        img = Image.open(img_path).convert(\"RGB\")\n",
    "        img_array = np.array(img)\n",
    "        img_array = img_array / 255.0\n",
    "\n",
    "        images.append(img_array)\n",
    "        labels.append(label)\n",
    "        \n",
    "    return images, labels"
   ]
  },
  {
   "cell_type": "code",
   "execution_count": 4,
   "metadata": {
    "execution": {
     "iopub.execute_input": "2023-12-13T02:35:05.999442Z",
     "iopub.status.busy": "2023-12-13T02:35:05.999054Z",
     "iopub.status.idle": "2023-12-13T02:36:06.566782Z",
     "shell.execute_reply": "2023-12-13T02:36:06.565848Z",
     "shell.execute_reply.started": "2023-12-13T02:35:05.999412Z"
    }
   },
   "outputs": [],
   "source": [
    "class1_images, class1_labels = load_and_preprocess_images(\"/kaggle/input/mixed-images/mixed_images/Class_1 -Airplane\", label=\"Airplane\")"
   ]
  },
  {
   "cell_type": "code",
   "execution_count": 5,
   "metadata": {
    "execution": {
     "iopub.execute_input": "2023-12-13T02:36:13.843459Z",
     "iopub.status.busy": "2023-12-13T02:36:13.842470Z",
     "iopub.status.idle": "2023-12-13T02:37:16.520007Z",
     "shell.execute_reply": "2023-12-13T02:37:16.519072Z",
     "shell.execute_reply.started": "2023-12-13T02:36:13.843424Z"
    }
   },
   "outputs": [],
   "source": [
    "class2_images, class2_labels = load_and_preprocess_images(\"/kaggle/input/mixed-images/mixed_images/Class_2 - Cars\", label=\"Car\")"
   ]
  },
  {
   "cell_type": "code",
   "execution_count": 6,
   "metadata": {
    "execution": {
     "iopub.execute_input": "2023-12-13T02:37:41.645209Z",
     "iopub.status.busy": "2023-12-13T02:37:41.644762Z",
     "iopub.status.idle": "2023-12-13T02:38:44.496602Z",
     "shell.execute_reply": "2023-12-13T02:38:44.495646Z",
     "shell.execute_reply.started": "2023-12-13T02:37:41.645178Z"
    }
   },
   "outputs": [],
   "source": [
    "class3_images, class3_labels = load_and_preprocess_images(\"/kaggle/input/mixed-images/mixed_images/Class_3 - Birds\", label=\"Bird\")"
   ]
  },
  {
   "cell_type": "code",
   "execution_count": 8,
   "metadata": {
    "execution": {
     "iopub.execute_input": "2023-12-13T02:38:55.446673Z",
     "iopub.status.busy": "2023-12-13T02:38:55.446311Z",
     "iopub.status.idle": "2023-12-13T02:39:55.276937Z",
     "shell.execute_reply": "2023-12-13T02:39:55.275849Z",
     "shell.execute_reply.started": "2023-12-13T02:38:55.446647Z"
    }
   },
   "outputs": [],
   "source": [
    "class4_images, class4_labels = load_and_preprocess_images(\"/kaggle/input/mixed-images/mixed_images/Class_4 - Cats\", label=\"Cat\")"
   ]
  },
  {
   "cell_type": "code",
   "execution_count": 9,
   "metadata": {
    "execution": {
     "iopub.execute_input": "2023-12-13T02:39:55.279239Z",
     "iopub.status.busy": "2023-12-13T02:39:55.278890Z",
     "iopub.status.idle": "2023-12-13T02:40:58.377802Z",
     "shell.execute_reply": "2023-12-13T02:40:58.376534Z",
     "shell.execute_reply.started": "2023-12-13T02:39:55.279208Z"
    }
   },
   "outputs": [],
   "source": [
    "class5_images, class5_labels = load_and_preprocess_images(\"/kaggle/input/mixed-images/mixed_images/Class_5 - Deers\", label=\"Deer\")"
   ]
  },
  {
   "cell_type": "code",
   "execution_count": 10,
   "metadata": {
    "execution": {
     "iopub.execute_input": "2023-12-13T02:40:58.379534Z",
     "iopub.status.busy": "2023-12-13T02:40:58.379203Z",
     "iopub.status.idle": "2023-12-13T02:42:03.274531Z",
     "shell.execute_reply": "2023-12-13T02:42:03.273458Z",
     "shell.execute_reply.started": "2023-12-13T02:40:58.379508Z"
    }
   },
   "outputs": [],
   "source": [
    "class6_images, class6_labels = load_and_preprocess_images(\"/kaggle/input/mixed-images/mixed_images/Class_6 - Dogs\", label=\"Dog\")"
   ]
  },
  {
   "cell_type": "code",
   "execution_count": 11,
   "metadata": {
    "execution": {
     "iopub.execute_input": "2023-12-13T02:42:03.278139Z",
     "iopub.status.busy": "2023-12-13T02:42:03.277642Z",
     "iopub.status.idle": "2023-12-13T02:43:04.947034Z",
     "shell.execute_reply": "2023-12-13T02:43:04.945555Z",
     "shell.execute_reply.started": "2023-12-13T02:42:03.278081Z"
    }
   },
   "outputs": [],
   "source": [
    "class7_images, class7_labels = load_and_preprocess_images(\"/kaggle/input/mixed-images/mixed_images/Class_7 - Frogs\", label=\"Frog\")"
   ]
  },
  {
   "cell_type": "code",
   "execution_count": 12,
   "metadata": {
    "execution": {
     "iopub.execute_input": "2023-12-13T02:43:04.948933Z",
     "iopub.status.busy": "2023-12-13T02:43:04.948490Z",
     "iopub.status.idle": "2023-12-13T02:44:05.373998Z",
     "shell.execute_reply": "2023-12-13T02:44:05.372947Z",
     "shell.execute_reply.started": "2023-12-13T02:43:04.948896Z"
    }
   },
   "outputs": [],
   "source": [
    "class8_images, class8_labels = load_and_preprocess_images(\"/kaggle/input/mixed-images/mixed_images/Class_8 - Horses\", label=\"Horse\")"
   ]
  },
  {
   "cell_type": "code",
   "execution_count": 13,
   "metadata": {
    "execution": {
     "iopub.execute_input": "2023-12-13T02:44:05.375686Z",
     "iopub.status.busy": "2023-12-13T02:44:05.375281Z",
     "iopub.status.idle": "2023-12-13T02:45:05.922863Z",
     "shell.execute_reply": "2023-12-13T02:45:05.921816Z",
     "shell.execute_reply.started": "2023-12-13T02:44:05.375650Z"
    }
   },
   "outputs": [],
   "source": [
    "class9_images, class9_labels = load_and_preprocess_images(\"/kaggle/input/mixed-images/mixed_images/Class_9 - Ships\", label=\"Ship\")"
   ]
  },
  {
   "cell_type": "code",
   "execution_count": 14,
   "metadata": {
    "execution": {
     "iopub.execute_input": "2023-12-13T02:45:05.924678Z",
     "iopub.status.busy": "2023-12-13T02:45:05.924302Z",
     "iopub.status.idle": "2023-12-13T02:46:06.174339Z",
     "shell.execute_reply": "2023-12-13T02:46:06.173050Z",
     "shell.execute_reply.started": "2023-12-13T02:45:05.924648Z"
    }
   },
   "outputs": [],
   "source": [
    "class10_images, class10_labels = load_and_preprocess_images(\"/kaggle/input/mixed-images/mixed_images/Class_10 - Trucks\", label=\"Truck\")"
   ]
  },
  {
   "cell_type": "code",
   "execution_count": 15,
   "metadata": {
    "execution": {
     "iopub.execute_input": "2023-12-13T02:46:06.176338Z",
     "iopub.status.busy": "2023-12-13T02:46:06.175903Z",
     "iopub.status.idle": "2023-12-13T02:47:10.821944Z",
     "shell.execute_reply": "2023-12-13T02:47:10.820843Z",
     "shell.execute_reply.started": "2023-12-13T02:46:06.176301Z"
    }
   },
   "outputs": [],
   "source": [
    "class11_images, class11_labels = load_and_preprocess_images(\"/kaggle/input/mixed-images/mixed_images/Class_11 - Faces\", label=\"Face\")"
   ]
  },
  {
   "cell_type": "code",
   "execution_count": 17,
   "metadata": {
    "execution": {
     "iopub.execute_input": "2023-12-13T02:47:33.531950Z",
     "iopub.status.busy": "2023-12-13T02:47:33.531484Z",
     "iopub.status.idle": "2023-12-13T02:47:34.460939Z",
     "shell.execute_reply": "2023-12-13T02:47:34.459993Z",
     "shell.execute_reply.started": "2023-12-13T02:47:33.531919Z"
    }
   },
   "outputs": [],
   "source": [
    "all_images = np.array(class1_images + class2_images + class3_images + class4_images + class5_images + class6_images+class7_images+class8_images+class9_images+class10_images+class11_images)\n",
    "all_labels = class1_labels + class2_labels + class3_labels + class4_labels+ class5_labels + class6_labels+class7_labels+class8_labels+class9_labels+class10_labels+class11_labels"
   ]
  },
  {
   "cell_type": "code",
   "execution_count": 18,
   "metadata": {
    "execution": {
     "iopub.execute_input": "2023-12-13T02:47:37.238530Z",
     "iopub.status.busy": "2023-12-13T02:47:37.237641Z",
     "iopub.status.idle": "2023-12-13T02:47:37.319099Z",
     "shell.execute_reply": "2023-12-13T02:47:37.318007Z",
     "shell.execute_reply.started": "2023-12-13T02:47:37.238481Z"
    }
   },
   "outputs": [],
   "source": [
    "label_encoder = LabelEncoder()\n",
    "encoded_labels = label_encoder.fit_transform(all_labels)"
   ]
  },
  {
   "cell_type": "code",
   "execution_count": 19,
   "metadata": {
    "execution": {
     "iopub.execute_input": "2023-12-13T02:47:39.574130Z",
     "iopub.status.busy": "2023-12-13T02:47:39.573723Z",
     "iopub.status.idle": "2023-12-13T02:47:40.393554Z",
     "shell.execute_reply": "2023-12-13T02:47:40.392584Z",
     "shell.execute_reply.started": "2023-12-13T02:47:39.574101Z"
    }
   },
   "outputs": [],
   "source": [
    "X_train, X_test, y_train, y_test = train_test_split(\n",
    "    all_images, encoded_labels, test_size=0.2, random_state=42\n",
    ")\n"
   ]
  },
  {
   "cell_type": "code",
   "execution_count": 28,
   "metadata": {
    "execution": {
     "iopub.execute_input": "2023-12-13T02:58:58.224285Z",
     "iopub.status.busy": "2023-12-13T02:58:58.223386Z",
     "iopub.status.idle": "2023-12-13T02:58:58.322044Z",
     "shell.execute_reply": "2023-12-13T02:58:58.321012Z",
     "shell.execute_reply.started": "2023-12-13T02:58:58.224247Z"
    }
   },
   "outputs": [],
   "source": [
    "from tensorflow.keras import layers, models\n",
    "\n",
    "model = models.Sequential()\n",
    "\n",
    "# Convolutional layers\n",
    "model.add(layers.Conv2D(32, (3, 3), activation=\"relu\", input_shape=(32, 32, 3)))\n",
    "model.add(layers.MaxPooling2D((2, 2)))\n",
    "model.add(layers.Conv2D(64, (3, 3), activation=\"relu\"))\n",
    "model.add(layers.MaxPooling2D((2, 2)))\n",
    "model.add(layers.Conv2D(64, (3, 3), activation=\"relu\"))\n",
    "\n",
    "# Flatten layer\n",
    "model.add(layers.Flatten())\n",
    "\n",
    "# Dense layers\n",
    "model.add(layers.Dense(64, activation=\"relu\"))\n",
    "model.add(layers.Dense(11, activation=\"softmax\"))\n",
    "\n",
    "# Compile the model\n",
    "model.compile(optimizer=\"adam\", loss=\"sparse_categorical_crossentropy\", metrics=[\"accuracy\"])\n"
   ]
  },
  {
   "cell_type": "code",
   "execution_count": 29,
   "metadata": {
    "execution": {
     "iopub.execute_input": "2023-12-13T02:58:59.122454Z",
     "iopub.status.busy": "2023-12-13T02:58:59.121614Z",
     "iopub.status.idle": "2023-12-13T02:58:59.154205Z",
     "shell.execute_reply": "2023-12-13T02:58:59.153209Z",
     "shell.execute_reply.started": "2023-12-13T02:58:59.122423Z"
    }
   },
   "outputs": [
    {
     "name": "stdout",
     "output_type": "stream",
     "text": [
      "Model: \"sequential_2\"\n",
      "_________________________________________________________________\n",
      " Layer (type)                Output Shape              Param #   \n",
      "=================================================================\n",
      " conv2d_6 (Conv2D)           (None, 30, 30, 32)        896       \n",
      "                                                                 \n",
      " max_pooling2d_4 (MaxPoolin  (None, 15, 15, 32)        0         \n",
      " g2D)                                                            \n",
      "                                                                 \n",
      " conv2d_7 (Conv2D)           (None, 13, 13, 64)        18496     \n",
      "                                                                 \n",
      " max_pooling2d_5 (MaxPoolin  (None, 6, 6, 64)          0         \n",
      " g2D)                                                            \n",
      "                                                                 \n",
      " conv2d_8 (Conv2D)           (None, 4, 4, 64)          36928     \n",
      "                                                                 \n",
      " flatten_2 (Flatten)         (None, 1024)              0         \n",
      "                                                                 \n",
      " dense_4 (Dense)             (None, 64)                65600     \n",
      "                                                                 \n",
      " dense_5 (Dense)             (None, 11)                715       \n",
      "                                                                 \n",
      "=================================================================\n",
      "Total params: 122635 (479.04 KB)\n",
      "Trainable params: 122635 (479.04 KB)\n",
      "Non-trainable params: 0 (0.00 Byte)\n",
      "_________________________________________________________________\n"
     ]
    }
   ],
   "source": [
    "model.summary()"
   ]
  },
  {
   "cell_type": "code",
   "execution_count": 30,
   "metadata": {
    "execution": {
     "iopub.execute_input": "2023-12-13T02:59:00.039207Z",
     "iopub.status.busy": "2023-12-13T02:59:00.038398Z",
     "iopub.status.idle": "2023-12-13T02:59:00.044299Z",
     "shell.execute_reply": "2023-12-13T02:59:00.043048Z",
     "shell.execute_reply.started": "2023-12-13T02:59:00.039174Z"
    }
   },
   "outputs": [],
   "source": [
    "from tensorflow.keras.callbacks import EarlyStopping\n",
    "early_stopping = EarlyStopping(monitor='val_loss', patience=3, restore_best_weights=True)"
   ]
  },
  {
   "cell_type": "code",
   "execution_count": 31,
   "metadata": {
    "execution": {
     "iopub.execute_input": "2023-12-13T02:59:00.752777Z",
     "iopub.status.busy": "2023-12-13T02:59:00.751973Z",
     "iopub.status.idle": "2023-12-13T03:01:54.860455Z",
     "shell.execute_reply": "2023-12-13T03:01:54.859280Z",
     "shell.execute_reply.started": "2023-12-13T02:59:00.752740Z"
    }
   },
   "outputs": [
    {
     "name": "stdout",
     "output_type": "stream",
     "text": [
      "Epoch 1/10\n",
      "2753/2753 [==============================] - 27s 6ms/step - loss: 1.1485 - accuracy: 0.5919 - val_loss: 0.9117 - val_accuracy: 0.6786\n",
      "Epoch 2/10\n",
      "2753/2753 [==============================] - 16s 6ms/step - loss: 0.8181 - accuracy: 0.7133 - val_loss: 0.7965 - val_accuracy: 0.7170\n",
      "Epoch 3/10\n",
      "2753/2753 [==============================] - 16s 6ms/step - loss: 0.7066 - accuracy: 0.7530 - val_loss: 0.6822 - val_accuracy: 0.7614\n",
      "Epoch 4/10\n",
      "2753/2753 [==============================] - 16s 6ms/step - loss: 0.6350 - accuracy: 0.7790 - val_loss: 0.6486 - val_accuracy: 0.7756\n",
      "Epoch 5/10\n",
      "2753/2753 [==============================] - 16s 6ms/step - loss: 0.5851 - accuracy: 0.7968 - val_loss: 0.6372 - val_accuracy: 0.7808\n",
      "Epoch 6/10\n",
      "2753/2753 [==============================] - 16s 6ms/step - loss: 0.5430 - accuracy: 0.8103 - val_loss: 0.6915 - val_accuracy: 0.7645\n",
      "Epoch 7/10\n",
      "2753/2753 [==============================] - 16s 6ms/step - loss: 0.5044 - accuracy: 0.8239 - val_loss: 0.6519 - val_accuracy: 0.7823\n",
      "Epoch 8/10\n",
      "2753/2753 [==============================] - 16s 6ms/step - loss: 0.4798 - accuracy: 0.8318 - val_loss: 0.5988 - val_accuracy: 0.7968\n",
      "Epoch 9/10\n",
      "2753/2753 [==============================] - 16s 6ms/step - loss: 0.4490 - accuracy: 0.8433 - val_loss: 0.6131 - val_accuracy: 0.7979\n",
      "Epoch 10/10\n",
      "2753/2753 [==============================] - 16s 6ms/step - loss: 0.4297 - accuracy: 0.8498 - val_loss: 0.6204 - val_accuracy: 0.7951\n"
     ]
    }
   ],
   "source": [
    "history = model.fit(X_train, y_train, epochs=10, validation_data=(X_test, y_test), callbacks=[early_stopping])"
   ]
  },
  {
   "cell_type": "code",
   "execution_count": 32,
   "metadata": {
    "execution": {
     "iopub.execute_input": "2023-12-13T03:01:59.810007Z",
     "iopub.status.busy": "2023-12-13T03:01:59.809563Z",
     "iopub.status.idle": "2023-12-13T03:02:11.691667Z",
     "shell.execute_reply": "2023-12-13T03:02:11.690739Z",
     "shell.execute_reply.started": "2023-12-13T03:01:59.809976Z"
    }
   },
   "outputs": [
    {
     "name": "stdout",
     "output_type": "stream",
     "text": [
      "2753/2753 [==============================] - 8s 3ms/step - loss: 0.3818 - accuracy: 0.8660\n"
     ]
    }
   ],
   "source": [
    "train_loss, train_acc = model.evaluate(X_train, y_train)"
   ]
  },
  {
   "cell_type": "code",
   "execution_count": 33,
   "metadata": {
    "execution": {
     "iopub.execute_input": "2023-12-13T03:03:07.644395Z",
     "iopub.status.busy": "2023-12-13T03:03:07.643403Z",
     "iopub.status.idle": "2023-12-13T03:03:10.660829Z",
     "shell.execute_reply": "2023-12-13T03:03:10.659532Z",
     "shell.execute_reply.started": "2023-12-13T03:03:07.644360Z"
    }
   },
   "outputs": [
    {
     "name": "stdout",
     "output_type": "stream",
     "text": [
      "689/689 [==============================] - 2s 3ms/step - loss: 0.6204 - accuracy: 0.7951\n"
     ]
    }
   ],
   "source": [
    "test_loss, test_acc = model.evaluate(X_test, y_test)"
   ]
  },
  {
   "cell_type": "code",
   "execution_count": 34,
   "metadata": {
    "execution": {
     "iopub.execute_input": "2023-12-13T03:03:24.024855Z",
     "iopub.status.busy": "2023-12-13T03:03:24.024437Z",
     "iopub.status.idle": "2023-12-13T03:03:24.407150Z",
     "shell.execute_reply": "2023-12-13T03:03:24.406042Z",
     "shell.execute_reply.started": "2023-12-13T03:03:24.024825Z"
    }
   },
   "outputs": [
    {
     "data": {
      "image/png": "[encoded data removed]",
      "text/plain": [
       "<Figure size 640x480 with 1 Axes>"
      ]
     },
     "metadata": {},
     "output_type": "display_data"
    }
   ],
   "source": [
    "import matplotlib.pyplot as plt\n",
    "\n",
    "\n",
    "# Extract training and validation loss from the history\n",
    "train_loss = history.history['loss']\n",
    "val_loss = history.history['val_loss']\n",
    "\n",
    "# Plotting the training and validation loss\n",
    "epochs = range(1, len(train_loss) + 1)\n",
    "plt.plot(epochs, train_loss, 'bo-', label='Training Loss')\n",
    "plt.plot(epochs, val_loss, 'ro-', label='Validation Loss')\n",
    "\n",
    "# Adding labels and title\n",
    "plt.xlabel('Epochs')\n",
    "plt.ylabel('Loss')\n",
    "plt.title('Training and Validation Loss Over Epochs')\n",
    "\n",
    "# Adding a legend\n",
    "plt.legend()\n",
    "\n",
    "# Display the plot\n",
    "plt.show()\n"
   ]
  },
  {
   "cell_type": "code",
   "execution_count": 35,
   "metadata": {
    "execution": {
     "iopub.execute_input": "2023-12-13T03:03:44.388730Z",
     "iopub.status.busy": "2023-12-13T03:03:44.387685Z",
     "iopub.status.idle": "2023-12-13T03:03:55.880699Z",
     "shell.execute_reply": "2023-12-13T03:03:55.879713Z",
     "shell.execute_reply.started": "2023-12-13T03:03:44.388689Z"
    }
   },
   "outputs": [
    {
     "name": "stdout",
     "output_type": "stream",
     "text": [
      "2753/2753 [==============================] - 6s 2ms/step\n"
     ]
    }
   ],
   "source": [
    "y_train_pred = model.predict(X_train)\n",
    "y_train_pred_binary = np.round(y_train_pred).astype(int)\n"
   ]
  },
  {
   "cell_type": "code",
   "execution_count": 37,
   "metadata": {
    "execution": {
     "iopub.execute_input": "2023-12-13T03:05:33.678152Z",
     "iopub.status.busy": "2023-12-13T03:05:33.677724Z",
     "iopub.status.idle": "2023-12-13T03:05:33.699561Z",
     "shell.execute_reply": "2023-12-13T03:05:33.698518Z",
     "shell.execute_reply.started": "2023-12-13T03:05:33.678123Z"
    }
   },
   "outputs": [],
   "source": [
    "y_train_original = label_encoder.inverse_transform(y_train)\n",
    "\n",
    "# Assuming y_train_pred_binary is your one-hot encoded predictions\n",
    "y_train_pred_class = np.argmax(y_train_pred_binary, axis=1)\n",
    "\n",
    "# Convert back to original labels\n",
    "y_train_pred_original = label_encoder.inverse_transform(y_train_pred_class)\n"
   ]
  },
  {
   "cell_type": "code",
   "execution_count": 38,
   "metadata": {
    "execution": {
     "iopub.execute_input": "2023-12-13T03:05:58.330025Z",
     "iopub.status.busy": "2023-12-13T03:05:58.329613Z",
     "iopub.status.idle": "2023-12-13T03:06:00.049284Z",
     "shell.execute_reply": "2023-12-13T03:06:00.048003Z",
     "shell.execute_reply.started": "2023-12-13T03:05:58.329995Z"
    }
   },
   "outputs": [
    {
     "name": "stdout",
     "output_type": "stream",
     "text": [
      "Train Classification Report:\n",
      "              precision    recall  f1-score   support\n",
      "\n",
      "    Airplane       0.49      0.88      0.63      7971\n",
      "        Bird       0.86      0.76      0.81      8019\n",
      "         Car       0.97      0.88      0.92      8005\n",
      "         Cat       0.86      0.66      0.75      7947\n",
      "        Deer       0.91      0.79      0.85      7986\n",
      "         Dog       0.76      0.81      0.79      7976\n",
      "        Face       1.00      1.00      1.00      8067\n",
      "        Frog       0.91      0.91      0.91      8006\n",
      "       Horse       0.97      0.75      0.84      8004\n",
      "        Ship       0.89      0.90      0.90      8093\n",
      "       Truck       0.94      0.87      0.90      8006\n",
      "\n",
      "    accuracy                           0.84     88080\n",
      "   macro avg       0.87      0.84      0.84     88080\n",
      "weighted avg       0.87      0.84      0.84     88080\n",
      "\n",
      "Train Confusion Matrix:\n",
      "[[7050  271   15   18   22   21    0   30   13  472   59]\n",
      " [1230 6102    1   85  171  187    1  160   19   50   13]\n",
      " [ 417   10 7049   16    9   18    0   37    5  199  245]\n",
      " [1290  155    3 5228   56  979    1  171   29   22   13]\n",
      " [1033  147    4   94 6343  112    0  179   60   12    2]\n",
      " [ 823  112    3  354   86 6449    2   79   46   10   12]\n",
      " [   3    1    0    0    0    3 8060    0    0    0    0]\n",
      " [ 405  129    0   89   41   53    0 7270    3   12    4]\n",
      " [1031   79    1  108  195  556    1   24 5981    6   22]\n",
      " [ 551   57   46   33    4   12    1   16    4 7307   62]\n",
      " [ 587   27  175   28    7   61    4   43   14  125 6935]]\n"
     ]
    }
   ],
   "source": [
    "from sklearn.metrics import classification_report, confusion_matrix\n",
    "\n",
    "print(\"Train Classification Report:\")\n",
    "print(classification_report(y_train_original, y_train_pred_original))\n",
    "\n",
    "\n",
    "print(\"Train Confusion Matrix:\")\n",
    "print(confusion_matrix(y_train_original, y_train_pred_original))\n",
    "\n",
    "train_cm = cm = confusion_matrix(y_train_original, y_train_pred_original)\n"
   ]
  },
  {
   "cell_type": "code",
   "execution_count": 39,
   "metadata": {
    "execution": {
     "iopub.execute_input": "2023-12-13T03:07:01.502893Z",
     "iopub.status.busy": "2023-12-13T03:07:01.502435Z",
     "iopub.status.idle": "2023-12-13T03:07:04.291646Z",
     "shell.execute_reply": "2023-12-13T03:07:04.290596Z",
     "shell.execute_reply.started": "2023-12-13T03:07:01.502848Z"
    }
   },
   "outputs": [
    {
     "name": "stdout",
     "output_type": "stream",
     "text": [
      "689/689 [==============================] - 1s 2ms/step\n"
     ]
    }
   ],
   "source": [
    "y_pred = model.predict(X_test)\n",
    "y_pred_binary = np.round(y_pred).astype(int)\n",
    "\n",
    "# Convert numerical labels back to original labels\n",
    "y_test_original = label_encoder.inverse_transform(y_test)\n",
    "\n",
    "y_test_pred_class = np.argmax(y_pred_binary, axis=1)\n",
    "\n",
    "# Convert back to original labels\n",
    "y_test_pred_original = label_encoder.inverse_transform(y_test_pred_class)\n"
   ]
  },
  {
   "cell_type": "code",
   "execution_count": 41,
   "metadata": {
    "execution": {
     "iopub.execute_input": "2023-12-13T03:07:30.536769Z",
     "iopub.status.busy": "2023-12-13T03:07:30.535744Z",
     "iopub.status.idle": "2023-12-13T03:07:30.969481Z",
     "shell.execute_reply": "2023-12-13T03:07:30.968258Z",
     "shell.execute_reply.started": "2023-12-13T03:07:30.536732Z"
    }
   },
   "outputs": [
    {
     "name": "stdout",
     "output_type": "stream",
     "text": [
      "Test Classification Report:\n",
      "              precision    recall  f1-score   support\n",
      "\n",
      "    Airplane       0.44      0.81      0.57      2039\n",
      "        Bird       0.75      0.67      0.71      1990\n",
      "         Car       0.91      0.82      0.86      2004\n",
      "         Cat       0.76      0.56      0.64      2062\n",
      "        Deer       0.86      0.71      0.78      2023\n",
      "         Dog       0.68      0.73      0.70      2033\n",
      "        Face       0.99      0.99      0.99      1943\n",
      "        Frog       0.86      0.86      0.86      2003\n",
      "       Horse       0.92      0.69      0.79      2005\n",
      "        Ship       0.82      0.85      0.83      1916\n",
      "       Truck       0.89      0.81      0.85      2003\n",
      "\n",
      "    accuracy                           0.77     22021\n",
      "   macro avg       0.81      0.77      0.78     22021\n",
      "weighted avg       0.80      0.77      0.78     22021\n",
      "\n",
      "TestConfusion Matrix:\n",
      "[[1647  125   20    8   13    9    3    8   10  172   24]\n",
      " [ 349 1341    5   42   61   78    0   77   16   17    4]\n",
      " [ 120    6 1638    9    0   11    2   10    2   93  113]\n",
      " [ 356   72    3 1154   31  334    0   71   21   11    9]\n",
      " [ 329   58    1   53 1443   43    0   52   37    4    3]\n",
      " [ 227   61    4  143   34 1484    5   35   25    4   11]\n",
      " [   5    1    0    1    2    4 1929    0    0    0    1]\n",
      " [ 122   59    4   49   22   14    0 1726    1    4    2]\n",
      " [ 263   33    1   36   76  192    2    9 1380    4    9]\n",
      " [ 179   23   37   13    5    4    0    6    3 1625   21]\n",
      " [ 185   12   92   18    0   16    0   14    8   44 1614]]\n"
     ]
    }
   ],
   "source": [
    "print(\"Test Classification Report:\")\n",
    "print(classification_report(y_test_original, y_test_pred_original))\n",
    "\n",
    "# Generate a confusion matrix\n",
    "print(\"TestConfusion Matrix:\")\n",
    "print(confusion_matrix(y_test_original, y_test_pred_original))\n",
    "\n",
    "test_cm = confusion_matrix(y_test_original, y_test_pred_original)"
   ]
  },
  {
   "cell_type": "code",
   "execution_count": 42,
   "metadata": {
    "execution": {
     "iopub.execute_input": "2023-12-13T03:08:10.762240Z",
     "iopub.status.busy": "2023-12-13T03:08:10.761314Z",
     "iopub.status.idle": "2023-12-13T03:08:11.132063Z",
     "shell.execute_reply": "2023-12-13T03:08:11.130978Z",
     "shell.execute_reply.started": "2023-12-13T03:08:10.762195Z"
    }
   },
   "outputs": [
    {
     "data": {
      "image/png": "[encoded data removed]",
      "text/plain": [
       "<Figure size 1000x600 with 1 Axes>"
      ]
     },
     "metadata": {},
     "output_type": "display_data"
    }
   ],
   "source": [
    "import matplotlib.pyplot as plt\n",
    "\n",
    "# Extract training and validation accuracy from the history\n",
    "train_accuracy = history.history['accuracy']\n",
    "val_accuracy = history.history['val_accuracy']\n",
    "\n",
    "# Plotting the training and validation accuracy\n",
    "plt.figure(figsize=(10, 6))\n",
    "plt.plot(epochs, train_accuracy, 'bo-', label='Training Accuracy')\n",
    "plt.plot(epochs, val_accuracy, 'ro-', label='Validation Accuracy')\n",
    "\n",
    "# Adding labels and title\n",
    "plt.xlabel('Epochs')\n",
    "plt.ylabel('Accuracy')\n",
    "plt.title('Training and Validation Accuracy Over Epochs')\n",
    "\n",
    "# Adding a legend\n",
    "plt.legend()\n",
    "\n",
    "# Display the plot\n",
    "plt.show()\n"
   ]
  },
  {
   "cell_type": "code",
   "execution_count": 43,
   "metadata": {
    "execution": {
     "iopub.execute_input": "2023-12-13T03:10:25.266621Z",
     "iopub.status.busy": "2023-12-13T03:10:25.265492Z",
     "iopub.status.idle": "2023-12-13T03:10:25.312252Z",
     "shell.execute_reply": "2023-12-13T03:10:25.311104Z",
     "shell.execute_reply.started": "2023-12-13T03:10:25.266541Z"
    }
   },
   "outputs": [
    {
     "name": "stderr",
     "output_type": "stream",
     "text": [
      "/opt/conda/lib/python3.10/site-packages/keras/src/engine/training.py:3000: UserWarning: You are saving your model as an HDF5 file via `model.save()`. This file format is considered legacy. We recommend using instead the native Keras format, e.g. `model.save('my_model.keras')`.\n",
      "  saving_api.save_model(\n"
     ]
    }
   ],
   "source": [
    "model.save(\"ObjectClassifier.h5\")"
   ]
  },
  {
   "cell_type": "code",
   "execution_count": null,
   "metadata": {},
   "outputs": [],
   "source": [
    "from tensorflow.keras import layers, models\n",
    "\n",
    "model = models.Sequential()\n",
    "\n",
    "# Convolutional layers\n",
    "model.add(layers.Conv2D(64, (3, 3), activation=\"relu\", input_shape=(32, 32, 3)))\n",
    "model.add(layers.BatchNormalization())\n",
    "model.add(layers.Conv2D(64, (3, 3), activation=\"relu\"))\n",
    "model.add(layers.BatchNormalization())\n",
    "model.add(layers.MaxPooling2D((2, 2)))\n",
    "\n",
    "model.add(layers.Conv2D(128, (3, 3), activation=\"relu\"))\n",
    "model.add(layers.BatchNormalization())\n",
    "model.add(layers.Conv2D(128, (3, 3), activation=\"relu\"))\n",
    "model.add(layers.BatchNormalization())\n",
    "model.add(layers.MaxPooling2D((2, 2)))\n",
    "\n",
    "model.add(layers.Conv2D(256, (3, 3), activation=\"relu\"))\n",
    "model.add(layers.BatchNormalization())\n",
    "model.add(layers.Conv2D(256, (3, 3), activation=\"relu\"))\n",
    "model.add(layers.BatchNormalization())\n",
    "model.add(layers.MaxPooling2D((2, 2)))\n",
    "\n",
    "# Flatten layer\n",
    "model.add(layers.Flatten())\n",
    "\n",
    "# Dense layers\n",
    "model.add(layers.Dense(256, activation=\"relu\"))\n",
    "model.add(layers.Dropout(0.5))\n",
    "model.add(layers.Dense(128, activation=\"relu\"))\n",
    "model.add(layers.Dropout(0.5))\n",
    "model.add(layers.Dense(11, activation=\"softmax\"))\n",
    "\n",
    "# Complitaion\n",
    "model.compile(optimizer=\"adam\", loss=\"sparse_categorical_crossentropy\", metrics=[\"accuracy\"])\n"
   ]
  }
 ],
 "metadata": {
  "kernelspec": {
   "display_name": "Python 3 (ipykernel)",
   "language": "python",
   "name": "python3"
  },
  "language_info": {
   "codemirror_mode": {
    "name": "ipython",
    "version": 3
   },
   "file_extension": ".py",
   "mimetype": "text/x-python",
   "name": "python",
   "nbconvert_exporter": "python",
   "pygments_lexer": "ipython3",
   "version": "3.9.12"
  }
 },
 "nbformat": 4,
 "nbformat_minor": 4
}
