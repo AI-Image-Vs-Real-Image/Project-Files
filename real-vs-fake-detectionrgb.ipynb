{
 "cells": [
  {
   "cell_type": "markdown",
   "metadata": {},
   "source": [
    "# Real vs Fake Classification\n",
    "\n",
    "## Overview\n",
    "\n",
    "This document provides detailed information about the Real vs Fake Classifier Model, including its architecture, training procedure, and usage guidelines.\n",
    "\n",
    "## Introduction\n",
    "\n",
    "The Real vs Fake Classifier Model is designed to classify objects in images. It has been trained on a diverse dataset and can predict if a given image is real or fake.\n",
    "\n",
    "## Model Architecture\n",
    "\n",
    "The model architecture is based on Convulutional Neural Networks. The final layer uses sigmoid activation to output class probabilities.\n",
    "\n",
    "## Dataset\n",
    "\n",
    "The model has been trained on a dataset consisting of 2 classes real or fake.\n",
    "\n",
    "## Training Procedure\n",
    "\n",
    "The model was trained using adam optimizer. Several training methods were tried starting with simple custom CNN to a more complex CNN and then with Data augmentation.\n",
    "\n",
    "## Dependencies\n",
    "This model relies on the following dependencies:\n",
    "\n",
    "- TensorFlow\n",
    "- NumPy"
   ]
  },
  {
   "cell_type": "code",
   "execution_count": 1,
   "metadata": {
    "_cell_guid": "b1076dfc-b9ad-4769-8c92-a6c4dae69d19",
    "_uuid": "8f2839f25d086af736a60e9eeb907d3b93b6e0e5",
    "execution": {
     "iopub.execute_input": "2023-12-13T01:44:31.738466Z",
     "iopub.status.busy": "2023-12-13T01:44:31.737499Z",
     "iopub.status.idle": "2023-12-13T01:44:46.230795Z",
     "shell.execute_reply": "2023-12-13T01:44:46.229730Z",
     "shell.execute_reply.started": "2023-12-13T01:44:31.738416Z"
    }
   },
   "outputs": [
    {
     "name": "stderr",
     "output_type": "stream",
     "text": [
      "/opt/conda/lib/python3.10/site-packages/scipy/__init__.py:146: UserWarning: A NumPy version >=1.16.5 and <1.23.0 is required for this version of SciPy (detected version 1.24.3\n",
      "  warnings.warn(f\"A NumPy version >={np_minversion} and <{np_maxversion}\"\n"
     ]
    }
   ],
   "source": [
    "import os\n",
    "import numpy as np\n",
    "from PIL import Image\n",
    "from sklearn.model_selection import train_test_split\n",
    "from sklearn.preprocessing import LabelEncoder\n",
    "from tensorflow.keras import layers, models, utils\n",
    "import matplotlib.pyplot as plt\n",
    "from tensorflow.keras.callbacks import EarlyStopping\n",
    "from sklearn.metrics import classification_report, confusion_matrix\n",
    "from tensorflow.keras.applications.vgg16 import preprocess_input\n",
    "from tensorflow.keras.preprocessing import image\n",
    "from tensorflow.keras.preprocessing.image import ImageDataGenerator\n",
    "from tensorflow.keras.optimizers import Adam"
   ]
  },
  {
   "cell_type": "markdown",
   "metadata": {},
   "source": [
    "## Image Loading and Preprocessing"
   ]
  },
  {
   "cell_type": "code",
   "execution_count": 2,
   "metadata": {
    "execution": {
     "iopub.execute_input": "2023-12-13T01:44:56.101148Z",
     "iopub.status.busy": "2023-12-13T01:44:56.100501Z",
     "iopub.status.idle": "2023-12-13T01:44:56.108498Z",
     "shell.execute_reply": "2023-12-13T01:44:56.107220Z",
     "shell.execute_reply.started": "2023-12-13T01:44:56.101114Z"
    }
   },
   "outputs": [],
   "source": [
    "def load_and_preprocess_images(folder_path, label):\n",
    "    images = []\n",
    "    labels = []\n",
    "\n",
    "    for img_name in os.listdir(folder_path):\n",
    "        img_path = os.path.join(folder_path, img_name)\n",
    "        img = Image.open(img_path).convert(\"RGB\")  # Load image as RGB\n",
    "        img_array = np.array(img)\n",
    "        img_array = img_array / 255.0  # Normalize pixel values to be between 0 and 1\n",
    "\n",
    "        images.append(img_array)\n",
    "        labels.append(label)\n",
    "        \n",
    "    return images, labels"
   ]
  },
  {
   "cell_type": "markdown",
   "metadata": {},
   "source": [
    "In the next steps we are loading the images using the above defined function. We are loading the images in to a numpy array and along with its corresponding class. This will help us train the model."
   ]
  },
  {
   "cell_type": "code",
   "execution_count": 3,
   "metadata": {
    "execution": {
     "iopub.execute_input": "2023-12-13T01:45:36.604136Z",
     "iopub.status.busy": "2023-12-13T01:45:36.603742Z",
     "iopub.status.idle": "2023-12-13T01:59:06.683899Z",
     "shell.execute_reply": "2023-12-13T01:59:06.682848Z",
     "shell.execute_reply.started": "2023-12-13T01:45:36.604107Z"
    }
   },
   "outputs": [],
   "source": [
    "real_images, real_labels = load_and_preprocess_images(\"/kaggle/input/realvsfakedata/archive2/train/REAL\", label=\"real\")\n",
    "\n",
    "fake_images, fake_labels = load_and_preprocess_images(\"/kaggle/input/realvsfakedata/archive2/train/FAKE\", label=\"fake\")\n"
   ]
  },
  {
   "cell_type": "code",
   "execution_count": 4,
   "metadata": {
    "execution": {
     "iopub.execute_input": "2023-12-13T01:59:06.686792Z",
     "iopub.status.busy": "2023-12-13T01:59:06.686282Z",
     "iopub.status.idle": "2023-12-13T01:59:07.591250Z",
     "shell.execute_reply": "2023-12-13T01:59:07.590409Z",
     "shell.execute_reply.started": "2023-12-13T01:59:06.686745Z"
    }
   },
   "outputs": [],
   "source": [
    "all_images = np.array(real_images + fake_images)\n",
    "all_labels = real_labels + fake_labels"
   ]
  },
  {
   "cell_type": "code",
   "execution_count": 5,
   "metadata": {
    "execution": {
     "iopub.execute_input": "2023-12-13T01:59:07.593122Z",
     "iopub.status.busy": "2023-12-13T01:59:07.592836Z",
     "iopub.status.idle": "2023-12-13T01:59:07.655271Z",
     "shell.execute_reply": "2023-12-13T01:59:07.654217Z",
     "shell.execute_reply.started": "2023-12-13T01:59:07.593097Z"
    }
   },
   "outputs": [],
   "source": [
    "label_encoder = LabelEncoder()\n",
    "encoded_labels = label_encoder.fit_transform(all_labels)"
   ]
  },
  {
   "cell_type": "markdown",
   "metadata": {},
   "source": [
    "## Train & Test Split"
   ]
  },
  {
   "cell_type": "code",
   "execution_count": 6,
   "metadata": {
    "execution": {
     "iopub.execute_input": "2023-12-13T01:59:24.946473Z",
     "iopub.status.busy": "2023-12-13T01:59:24.946017Z",
     "iopub.status.idle": "2023-12-13T01:59:25.777805Z",
     "shell.execute_reply": "2023-12-13T01:59:25.776683Z",
     "shell.execute_reply.started": "2023-12-13T01:59:24.946436Z"
    }
   },
   "outputs": [],
   "source": [
    "X_train, X_test, y_train, y_test = train_test_split(\n",
    "    all_images, encoded_labels, test_size=0.2, random_state=42\n",
    ")"
   ]
  },
  {
   "cell_type": "markdown",
   "metadata": {},
   "source": [
    "### Model Architecture\n",
    "\n",
    "The model architecture is a sequential neural network with 3 convolutional and 2 dense layers. \n",
    "\n",
    "#### Model Layers\n",
    "\n",
    "##### Convolutional Layers:\n",
    "\n",
    "- First Convolutional Layer: 32 filters, (3, 3) kernel size, ReLU activation.\n",
    "- MaxPooling Layer: (2, 2) pool size.\n",
    "- Second Convolutional Layer: 64 filters, (3, 3) kernel size, ReLU activation.- \n",
    "- MaxPooling Layer: (2, 2) pool size.\n",
    "- Third Convolutional Layer: 64 filters, (3, 3) kernel size, ReLU activation.\n",
    "\n",
    "##### Flatten Layer: Flattens the input for the transition from convolutional layers to dense layers.\n",
    "\n",
    "##### Dense Layers:\n",
    "    - First Dense Layer: 64 units, ReLU activation.\n",
    "    - Second Dense Layer: 11 units (output classes), sigmoid activation.\n"
   ]
  },
  {
   "cell_type": "code",
   "execution_count": 8,
   "metadata": {
    "execution": {
     "iopub.execute_input": "2023-12-13T01:59:34.759801Z",
     "iopub.status.busy": "2023-12-13T01:59:34.759351Z",
     "iopub.status.idle": "2023-12-13T01:59:38.092466Z",
     "shell.execute_reply": "2023-12-13T01:59:38.091541Z",
     "shell.execute_reply.started": "2023-12-13T01:59:34.759770Z"
    }
   },
   "outputs": [],
   "source": [
    "model = models.Sequential()\n",
    "model.add(layers.Conv2D(32, (3, 3), activation=\"relu\", input_shape=(32, 32, 3)))\n",
    "model.add(layers.MaxPooling2D((2, 2)))\n",
    "model.add(layers.Conv2D(64, (3, 3), activation=\"relu\"))\n",
    "model.add(layers.MaxPooling2D((2, 2)))\n",
    "model.add(layers.Conv2D(64, (3, 3), activation=\"relu\"))\n",
    "model.add(layers.Flatten())\n",
    "model.add(layers.Dense(64, activation=\"relu\"))\n",
    "model.add(layers.Dense(1, activation=\"sigmoid\"))\n",
    "\n",
    "model.compile(optimizer=\"adam\", loss=\"binary_crossentropy\", metrics=[\"accuracy\"])\n"
   ]
  },
  {
   "cell_type": "code",
   "execution_count": 9,
   "metadata": {
    "execution": {
     "iopub.execute_input": "2023-12-13T01:59:40.683150Z",
     "iopub.status.busy": "2023-12-13T01:59:40.682479Z",
     "iopub.status.idle": "2023-12-13T01:59:40.697668Z",
     "shell.execute_reply": "2023-12-13T01:59:40.696512Z",
     "shell.execute_reply.started": "2023-12-13T01:59:40.683102Z"
    }
   },
   "outputs": [],
   "source": [
    "model.compile(optimizer=\"adam\", loss=\"binary_crossentropy\", metrics=[\"accuracy\"])"
   ]
  },
  {
   "cell_type": "code",
   "execution_count": 10,
   "metadata": {
    "execution": {
     "iopub.execute_input": "2023-12-13T01:59:42.430497Z",
     "iopub.status.busy": "2023-12-13T01:59:42.430073Z",
     "iopub.status.idle": "2023-12-13T01:59:42.436857Z",
     "shell.execute_reply": "2023-12-13T01:59:42.435786Z",
     "shell.execute_reply.started": "2023-12-13T01:59:42.430465Z"
    }
   },
   "outputs": [],
   "source": [
    "early_stopping = EarlyStopping(monitor='val_loss', patience=3, restore_best_weights=True)\n"
   ]
  },
  {
   "cell_type": "code",
   "execution_count": 11,
   "metadata": {
    "execution": {
     "iopub.execute_input": "2023-12-13T01:59:44.831926Z",
     "iopub.status.busy": "2023-12-13T01:59:44.831129Z",
     "iopub.status.idle": "2023-12-13T02:02:24.143902Z",
     "shell.execute_reply": "2023-12-13T02:02:24.142752Z",
     "shell.execute_reply.started": "2023-12-13T01:59:44.831890Z"
    }
   },
   "outputs": [
    {
     "name": "stdout",
     "output_type": "stream",
     "text": [
      "Epoch 1/10\n",
      "2750/2750 [==============================] - 25s 6ms/step - loss: 0.3772 - accuracy: 0.8283 - val_loss: 0.2677 - val_accuracy: 0.8890\n",
      "Epoch 2/10\n",
      "2750/2750 [==============================] - 14s 5ms/step - loss: 0.2473 - accuracy: 0.9001 - val_loss: 0.3891 - val_accuracy: 0.8316\n",
      "Epoch 3/10\n",
      "2750/2750 [==============================] - 14s 5ms/step - loss: 0.2050 - accuracy: 0.9187 - val_loss: 0.2143 - val_accuracy: 0.9179\n",
      "Epoch 4/10\n",
      "2750/2750 [==============================] - 14s 5ms/step - loss: 0.1792 - accuracy: 0.9292 - val_loss: 0.1844 - val_accuracy: 0.9294\n",
      "Epoch 5/10\n",
      "2750/2750 [==============================] - 15s 5ms/step - loss: 0.1639 - accuracy: 0.9364 - val_loss: 0.2406 - val_accuracy: 0.9098\n",
      "Epoch 6/10\n",
      "2750/2750 [==============================] - 14s 5ms/step - loss: 0.1466 - accuracy: 0.9428 - val_loss: 0.1899 - val_accuracy: 0.9283\n",
      "Epoch 7/10\n",
      "2750/2750 [==============================] - 15s 5ms/step - loss: 0.1368 - accuracy: 0.9464 - val_loss: 0.1755 - val_accuracy: 0.9327\n",
      "Epoch 8/10\n",
      "2750/2750 [==============================] - 14s 5ms/step - loss: 0.1269 - accuracy: 0.9507 - val_loss: 0.1772 - val_accuracy: 0.9342\n",
      "Epoch 9/10\n",
      "2750/2750 [==============================] - 15s 5ms/step - loss: 0.1145 - accuracy: 0.9565 - val_loss: 0.2187 - val_accuracy: 0.9226\n",
      "Epoch 10/10\n",
      "2750/2750 [==============================] - 15s 5ms/step - loss: 0.1047 - accuracy: 0.9594 - val_loss: 0.2918 - val_accuracy: 0.9086\n"
     ]
    }
   ],
   "source": [
    "history = model.fit(X_train, y_train, epochs=10, validation_data=(X_test, y_test), callbacks=[early_stopping])"
   ]
  },
  {
   "cell_type": "code",
   "execution_count": 12,
   "metadata": {
    "execution": {
     "iopub.execute_input": "2023-12-13T02:02:24.147318Z",
     "iopub.status.busy": "2023-12-13T02:02:24.146471Z",
     "iopub.status.idle": "2023-12-13T02:02:37.806749Z",
     "shell.execute_reply": "2023-12-13T02:02:37.805583Z",
     "shell.execute_reply.started": "2023-12-13T02:02:24.147271Z"
    }
   },
   "outputs": [
    {
     "name": "stdout",
     "output_type": "stream",
     "text": [
      "2750/2750 [==============================] - 7s 3ms/step - loss: 0.1199 - accuracy: 0.9537\n"
     ]
    }
   ],
   "source": [
    "train_loss, train_acc = model.evaluate(X_train, y_train)"
   ]
  },
  {
   "cell_type": "code",
   "execution_count": 13,
   "metadata": {
    "execution": {
     "iopub.execute_input": "2023-12-13T02:03:25.376359Z",
     "iopub.status.busy": "2023-12-13T02:03:25.375880Z",
     "iopub.status.idle": "2023-12-13T02:03:28.835840Z",
     "shell.execute_reply": "2023-12-13T02:03:28.834896Z",
     "shell.execute_reply.started": "2023-12-13T02:03:25.376325Z"
    }
   },
   "outputs": [
    {
     "name": "stdout",
     "output_type": "stream",
     "text": [
      "688/688 [==============================] - 2s 3ms/step - loss: 0.1755 - accuracy: 0.9327\n"
     ]
    }
   ],
   "source": [
    "test_loss, test_acc = model.evaluate(X_test, y_test)"
   ]
  },
  {
   "cell_type": "code",
   "execution_count": 14,
   "metadata": {
    "execution": {
     "iopub.execute_input": "2023-12-13T02:03:29.583239Z",
     "iopub.status.busy": "2023-12-13T02:03:29.582812Z",
     "iopub.status.idle": "2023-12-13T02:03:29.589052Z",
     "shell.execute_reply": "2023-12-13T02:03:29.588005Z",
     "shell.execute_reply.started": "2023-12-13T02:03:29.583203Z"
    }
   },
   "outputs": [
    {
     "name": "stdout",
     "output_type": "stream",
     "text": [
      "87992\n"
     ]
    }
   ],
   "source": [
    "print(len(X_train))"
   ]
  },
  {
   "cell_type": "code",
   "execution_count": 15,
   "metadata": {
    "execution": {
     "iopub.execute_input": "2023-12-13T02:03:33.684599Z",
     "iopub.status.busy": "2023-12-13T02:03:33.684179Z",
     "iopub.status.idle": "2023-12-13T02:03:34.004608Z",
     "shell.execute_reply": "2023-12-13T02:03:34.003454Z",
     "shell.execute_reply.started": "2023-12-13T02:03:33.684566Z"
    }
   },
   "outputs": [
    {
     "data": {
      "image/png": "[encoded data removed]",
      "text/plain": [
       "<Figure size 640x480 with 1 Axes>"
      ]
     },
     "metadata": {},
     "output_type": "display_data"
    }
   ],
   "source": [
    "\n",
    "# Extract training and validation loss from the history\n",
    "train_loss = history.history['loss']\n",
    "val_loss = history.history['val_loss']\n",
    "\n",
    "# Plotting the training and validation loss\n",
    "epochs = range(1, len(train_loss) + 1)\n",
    "plt.plot(epochs, train_loss, 'bo-', label='Training Loss')\n",
    "plt.plot(epochs, val_loss, 'ro-', label='Validation Loss')\n",
    "\n",
    "# Adding labels and title\n",
    "plt.xlabel('Epochs')\n",
    "plt.ylabel('Loss')\n",
    "plt.title('Training and Validation Loss Over Epochs')\n",
    "\n",
    "# Adding a legend\n",
    "plt.legend()\n",
    "\n",
    "# Display the plot\n",
    "plt.show()\n"
   ]
  },
  {
   "cell_type": "code",
   "execution_count": 16,
   "metadata": {
    "execution": {
     "iopub.execute_input": "2023-12-13T02:03:44.780507Z",
     "iopub.status.busy": "2023-12-13T02:03:44.779534Z",
     "iopub.status.idle": "2023-12-13T02:03:44.786009Z",
     "shell.execute_reply": "2023-12-13T02:03:44.784897Z",
     "shell.execute_reply.started": "2023-12-13T02:03:44.780468Z"
    }
   },
   "outputs": [
    {
     "name": "stdout",
     "output_type": "stream",
     "text": [
      "Train Accuracy: 0.9537457823753357\n",
      "Test Accuracy: 0.9327242374420166\n"
     ]
    }
   ],
   "source": [
    "print(f\"Train Accuracy: {train_acc}\")\n",
    "print(f\"Test Accuracy: {test_acc}\")\n"
   ]
  },
  {
   "cell_type": "code",
   "execution_count": 17,
   "metadata": {
    "execution": {
     "iopub.execute_input": "2023-12-13T02:03:45.444174Z",
     "iopub.status.busy": "2023-12-13T02:03:45.443757Z",
     "iopub.status.idle": "2023-12-13T02:03:55.778011Z",
     "shell.execute_reply": "2023-12-13T02:03:55.777035Z",
     "shell.execute_reply.started": "2023-12-13T02:03:45.444142Z"
    }
   },
   "outputs": [
    {
     "name": "stdout",
     "output_type": "stream",
     "text": [
      "2750/2750 [==============================] - 5s 2ms/step\n"
     ]
    }
   ],
   "source": [
    "y_train_pred = model.predict(X_train)\n",
    "y_train_pred_binary = np.round(y_train_pred).astype(int)\n"
   ]
  },
  {
   "cell_type": "code",
   "execution_count": 18,
   "metadata": {
    "execution": {
     "iopub.execute_input": "2023-12-13T02:03:56.574615Z",
     "iopub.status.busy": "2023-12-13T02:03:56.574155Z",
     "iopub.status.idle": "2023-12-13T02:03:56.587484Z",
     "shell.execute_reply": "2023-12-13T02:03:56.586425Z",
     "shell.execute_reply.started": "2023-12-13T02:03:56.574582Z"
    }
   },
   "outputs": [
    {
     "name": "stderr",
     "output_type": "stream",
     "text": [
      "/opt/conda/lib/python3.10/site-packages/sklearn/preprocessing/_label.py:155: DataConversionWarning: A column-vector y was passed when a 1d array was expected. Please change the shape of y to (n_samples, ), for example using ravel().\n",
      "  y = column_or_1d(y, warn=True)\n"
     ]
    }
   ],
   "source": [
    "y_train_original = label_encoder.inverse_transform(y_train)\n",
    "y_train_pred_original = label_encoder.inverse_transform(y_train_pred_binary)\n"
   ]
  },
  {
   "cell_type": "code",
   "execution_count": 19,
   "metadata": {
    "execution": {
     "iopub.execute_input": "2023-12-13T02:03:57.560034Z",
     "iopub.status.busy": "2023-12-13T02:03:57.559294Z",
     "iopub.status.idle": "2023-12-13T02:04:00.232051Z",
     "shell.execute_reply": "2023-12-13T02:04:00.230829Z",
     "shell.execute_reply.started": "2023-12-13T02:03:57.559994Z"
    }
   },
   "outputs": [
    {
     "name": "stdout",
     "output_type": "stream",
     "text": [
      "688/688 [==============================] - 1s 2ms/step\n"
     ]
    },
    {
     "name": "stderr",
     "output_type": "stream",
     "text": [
      "/opt/conda/lib/python3.10/site-packages/sklearn/preprocessing/_label.py:155: DataConversionWarning: A column-vector y was passed when a 1d array was expected. Please change the shape of y to (n_samples, ), for example using ravel().\n",
      "  y = column_or_1d(y, warn=True)\n"
     ]
    }
   ],
   "source": [
    "y_pred = model.predict(X_test)\n",
    "y_pred_binary = np.round(y_pred).astype(int)\n",
    "\n",
    "# Convert numerical labels back to original labels\n",
    "y_test_original = label_encoder.inverse_transform(y_test)\n",
    "y_pred_original = label_encoder.inverse_transform(y_pred_binary)\n"
   ]
  },
  {
   "cell_type": "code",
   "execution_count": 22,
   "metadata": {
    "execution": {
     "iopub.execute_input": "2023-12-13T02:15:37.932317Z",
     "iopub.status.busy": "2023-12-13T02:15:37.931252Z",
     "iopub.status.idle": "2023-12-13T02:15:38.273583Z",
     "shell.execute_reply": "2023-12-13T02:15:38.272546Z",
     "shell.execute_reply.started": "2023-12-13T02:15:37.932269Z"
    }
   },
   "outputs": [
    {
     "data": {
      "image/png": "[encoded data removed]",
      "text/plain": [
       "<Figure size 1000x600 with 1 Axes>"
      ]
     },
     "metadata": {},
     "output_type": "display_data"
    }
   ],
   "source": [
    "\n",
    "\n",
    "# Extract training and validation accuracy from the history\n",
    "train_accuracy = history.history['accuracy']\n",
    "val_accuracy = history.history['val_accuracy']\n",
    "\n",
    "# Plotting the training and validation accuracy\n",
    "plt.figure(figsize=(10, 6))\n",
    "plt.plot(epochs, train_accuracy, 'bo-', label='Training Accuracy')\n",
    "plt.plot(epochs, val_accuracy, 'ro-', label='Validation Accuracy')\n",
    "\n",
    "# Adding labels and title\n",
    "plt.xlabel('Epochs')\n",
    "plt.ylabel('Accuracy')\n",
    "plt.title('Training and Validation Accuracy Over Epochs')\n",
    "\n",
    "# Adding a legend\n",
    "plt.legend()\n",
    "\n",
    "# Display the plot\n",
    "plt.show()\n"
   ]
  },
  {
   "cell_type": "code",
   "execution_count": 20,
   "metadata": {
    "execution": {
     "iopub.execute_input": "2023-12-13T02:04:00.234352Z",
     "iopub.status.busy": "2023-12-13T02:04:00.233985Z",
     "iopub.status.idle": "2023-12-13T02:04:01.963130Z",
     "shell.execute_reply": "2023-12-13T02:04:01.962150Z",
     "shell.execute_reply.started": "2023-12-13T02:04:00.234320Z"
    }
   },
   "outputs": [
    {
     "name": "stdout",
     "output_type": "stream",
     "text": [
      "Train Classification Report:\n",
      "              precision    recall  f1-score   support\n",
      "\n",
      "        fake       0.97      0.94      0.95     44165\n",
      "        real       0.94      0.97      0.95     43827\n",
      "\n",
      "    accuracy                           0.95     87992\n",
      "   macro avg       0.95      0.95      0.95     87992\n",
      "weighted avg       0.95      0.95      0.95     87992\n",
      "\n",
      "Train Confusion Matrix:\n",
      "[[41340  2825]\n",
      " [ 1245 42582]]\n"
     ]
    }
   ],
   "source": [
    "\n",
    "print(\"Train Classification Report:\")\n",
    "print(classification_report(y_train_original, y_train_pred_original))\n",
    "\n",
    "\n",
    "print(\"Train Confusion Matrix:\")\n",
    "print(confusion_matrix(y_train_original, y_train_pred_original))\n",
    "\n",
    "train_cm = cm = confusion_matrix(y_train_original, y_train_pred_original)\n"
   ]
  },
  {
   "cell_type": "code",
   "execution_count": 21,
   "metadata": {
    "execution": {
     "iopub.execute_input": "2023-12-13T02:04:35.024392Z",
     "iopub.status.busy": "2023-12-13T02:04:35.024005Z",
     "iopub.status.idle": "2023-12-13T02:04:35.437958Z",
     "shell.execute_reply": "2023-12-13T02:04:35.436849Z",
     "shell.execute_reply.started": "2023-12-13T02:04:35.024351Z"
    }
   },
   "outputs": [
    {
     "name": "stdout",
     "output_type": "stream",
     "text": [
      "Test Classification Report:\n",
      "              precision    recall  f1-score   support\n",
      "\n",
      "        fake       0.95      0.91      0.93     10835\n",
      "        real       0.92      0.95      0.94     11164\n",
      "\n",
      "    accuracy                           0.93     21999\n",
      "   macro avg       0.93      0.93      0.93     21999\n",
      "weighted avg       0.93      0.93      0.93     21999\n",
      "\n",
      "TestConfusion Matrix:\n",
      "[[ 9873   962]\n",
      " [  518 10646]]\n"
     ]
    }
   ],
   "source": [
    "print(\"Test Classification Report:\")\n",
    "print(classification_report(y_test_original, y_pred_original))\n",
    "\n",
    "# Generate a confusion matrix\n",
    "print(\"TestConfusion Matrix:\")\n",
    "print(confusion_matrix(y_test_original, y_pred_original))\n",
    "\n",
    "test_cm = confusion_matrix(y_test_original, y_pred_original)"
   ]
  },
  {
   "cell_type": "code",
   "execution_count": 32,
   "metadata": {
    "execution": {
     "iopub.execute_input": "2023-12-13T02:31:08.644281Z",
     "iopub.status.busy": "2023-12-13T02:31:08.643369Z",
     "iopub.status.idle": "2023-12-13T02:31:08.701035Z",
     "shell.execute_reply": "2023-12-13T02:31:08.700098Z",
     "shell.execute_reply.started": "2023-12-13T02:31:08.644245Z"
    }
   },
   "outputs": [
    {
     "name": "stderr",
     "output_type": "stream",
     "text": [
      "/opt/conda/lib/python3.10/site-packages/keras/src/engine/training.py:3000: UserWarning: You are saving your model as an HDF5 file via `model.save()`. This file format is considered legacy. We recommend using instead the native Keras format, e.g. `model.save('my_model.keras')`.\n",
      "  saving_api.save_model(\n"
     ]
    }
   ],
   "source": [
    "# Save the entire model to a HDF5 file\n",
    "model.save(\"RealvsFakeDetectionRGB.h5\")"
   ]
  }
 ],
 "metadata": {
  "kaggle": {
   "accelerator": "gpu",
   "dataSources": [
    {
     "datasetId": 4042307,
     "sourceId": 7028266,
     "sourceType": "datasetVersion"
    }
   ],
   "dockerImageVersionId": 30588,
   "isGpuEnabled": true,
   "isInternetEnabled": true,
   "language": "python",
   "sourceType": "notebook"
  },
  "kernelspec": {
   "display_name": "Python 3 (ipykernel)",
   "language": "python",
   "name": "python3"
  },
  "language_info": {
   "codemirror_mode": {
    "name": "ipython",
    "version": 3
   },
   "file_extension": ".py",
   "mimetype": "text/x-python",
   "name": "python",
   "nbconvert_exporter": "python",
   "pygments_lexer": "ipython3",
   "version": "3.9.12"
  }
 },
 "nbformat": 4,
 "nbformat_minor": 4
}
