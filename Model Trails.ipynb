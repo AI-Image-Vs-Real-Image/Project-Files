{
 "cells": [
  {
   "cell_type": "code",
   "execution_count": 1,
   "id": "25453c79",
   "metadata": {},
   "outputs": [],
   "source": [
    "import os\n",
    "import numpy as np\n",
    "from PIL import Image\n",
    "from sklearn.model_selection import train_test_split\n",
    "from sklearn.preprocessing import LabelEncoder\n",
    "from tensorflow.keras import layers, models, utils\n"
   ]
  },
  {
   "cell_type": "code",
   "execution_count": 2,
   "id": "f8b87eb0",
   "metadata": {},
   "outputs": [],
   "source": [
    "def load_and_preprocess_images(folder_path, label):\n",
    "    images = []\n",
    "    labels = []\n",
    "\n",
    "    for img_name in os.listdir(folder_path):\n",
    "        img_path = os.path.join(folder_path, img_name)\n",
    "        img = Image.open(img_path).convert(\"L\")  \n",
    "        img_array = np.array(img)\n",
    "        img_array = img_array / 255.0  \n",
    "\n",
    "        images.append(img_array)\n",
    "        labels.append(label)\n",
    "\n",
    "    return images, labels\n"
   ]
  },
  {
   "cell_type": "code",
   "execution_count": 3,
   "id": "f7fc824f",
   "metadata": {},
   "outputs": [],
   "source": [
    "real_images, real_labels = load_and_preprocess_images(\"real_folder\", label=\"real\")\n",
    "\n",
    "fake_images, fake_labels = load_and_preprocess_images(\"fake_folder\", label=\"fake\")\n"
   ]
  },
  {
   "cell_type": "code",
   "execution_count": 4,
   "id": "419d25df",
   "metadata": {},
   "outputs": [],
   "source": [
    "all_images = np.array(real_images + fake_images)\n",
    "all_labels = real_labels + fake_labels\n"
   ]
  },
  {
   "cell_type": "code",
   "execution_count": 5,
   "id": "67b61dbf",
   "metadata": {},
   "outputs": [],
   "source": [
    "label_encoder = LabelEncoder()\n",
    "encoded_labels = label_encoder.fit_transform(all_labels)"
   ]
  },
  {
   "cell_type": "code",
   "execution_count": 6,
   "id": "7c63afb7",
   "metadata": {},
   "outputs": [],
   "source": [
    "X_train, X_test, y_train, y_test = train_test_split(\n",
    "    all_images, encoded_labels, test_size=0.2, random_state=42\n",
    ")\n"
   ]
  },
  {
   "cell_type": "code",
   "execution_count": 7,
   "id": "10433cb7",
   "metadata": {},
   "outputs": [],
   "source": [
    "X_train = np.array(X_train).reshape(-1, 32, 32, 1)\n",
    "X_test = np.array(X_test).reshape(-1, 32, 32, 1)\n"
   ]
  },
  {
   "cell_type": "code",
   "execution_count": 8,
   "id": "ace7acc4",
   "metadata": {},
   "outputs": [],
   "source": [
    "model = models.Sequential()\n",
    "model.add(layers.Conv2D(32, (3, 3), activation=\"relu\", input_shape=(32, 32, 1)))\n",
    "model.add(layers.MaxPooling2D((2, 2)))\n",
    "model.add(layers.Conv2D(64, (3, 3), activation=\"relu\"))\n",
    "model.add(layers.MaxPooling2D((2, 2)))\n",
    "model.add(layers.Conv2D(64, (3, 3), activation=\"relu\"))\n",
    "model.add(layers.Flatten())\n",
    "model.add(layers.Dense(64, activation=\"relu\"))\n",
    "model.add(layers.Dense(1, activation=\"sigmoid\"))\n"
   ]
  },
  {
   "cell_type": "code",
   "execution_count": 9,
   "id": "86c42c0b",
   "metadata": {},
   "outputs": [],
   "source": [
    "model.compile(optimizer=\"adam\", loss=\"binary_crossentropy\", metrics=[\"accuracy\"])\n"
   ]
  },
  {
   "cell_type": "code",
   "execution_count": 10,
   "id": "45c635c4",
   "metadata": {},
   "outputs": [
    {
     "name": "stdout",
     "output_type": "stream",
     "text": [
      "Epoch 1/10\n",
      "275/275 [==============================] - 11s 32ms/step - loss: 0.5851 - accuracy: 0.6837 - val_loss: 0.5245 - val_accuracy: 0.7432\n",
      "Epoch 2/10\n",
      "275/275 [==============================] - 7s 27ms/step - loss: 0.4813 - accuracy: 0.7695 - val_loss: 0.4881 - val_accuracy: 0.7718\n",
      "Epoch 3/10\n",
      "275/275 [==============================] - 8s 27ms/step - loss: 0.4276 - accuracy: 0.8016 - val_loss: 0.3988 - val_accuracy: 0.8241\n",
      "Epoch 4/10\n",
      "275/275 [==============================] - 8s 30ms/step - loss: 0.3849 - accuracy: 0.8298 - val_loss: 0.4107 - val_accuracy: 0.8159\n",
      "Epoch 5/10\n",
      "275/275 [==============================] - 8s 30ms/step - loss: 0.3495 - accuracy: 0.8499 - val_loss: 0.3351 - val_accuracy: 0.8514\n",
      "Epoch 6/10\n",
      "275/275 [==============================] - 7s 25ms/step - loss: 0.3131 - accuracy: 0.8653 - val_loss: 0.3335 - val_accuracy: 0.8473\n",
      "Epoch 7/10\n",
      "275/275 [==============================] - 7s 25ms/step - loss: 0.2822 - accuracy: 0.8793 - val_loss: 0.3009 - val_accuracy: 0.8709\n",
      "Epoch 8/10\n",
      "275/275 [==============================] - 7s 26ms/step - loss: 0.2629 - accuracy: 0.8885 - val_loss: 0.2905 - val_accuracy: 0.8732\n",
      "Epoch 9/10\n",
      "275/275 [==============================] - 7s 26ms/step - loss: 0.2387 - accuracy: 0.9013 - val_loss: 0.3253 - val_accuracy: 0.8532\n",
      "Epoch 10/10\n",
      "275/275 [==============================] - 7s 26ms/step - loss: 0.2157 - accuracy: 0.9136 - val_loss: 0.3359 - val_accuracy: 0.8591\n"
     ]
    },
    {
     "data": {
      "text/plain": [
       "<keras.callbacks.History at 0x15922cf0be0>"
      ]
     },
     "execution_count": 10,
     "metadata": {},
     "output_type": "execute_result"
    }
   ],
   "source": [
    "model.fit(X_train, y_train, epochs=10, validation_data=(X_test, y_test))\n"
   ]
  },
  {
   "cell_type": "code",
   "execution_count": 11,
   "id": "2d520ae2",
   "metadata": {},
   "outputs": [
    {
     "name": "stdout",
     "output_type": "stream",
     "text": [
      "275/275 [==============================] - 3s 10ms/step - loss: 0.2028 - accuracy: 0.9232\n"
     ]
    }
   ],
   "source": [
    "train_loss, train_acc = model.evaluate(X_train, y_train)\n"
   ]
  },
  {
   "cell_type": "code",
   "execution_count": 12,
   "id": "91455df5",
   "metadata": {},
   "outputs": [
    {
     "name": "stdout",
     "output_type": "stream",
     "text": [
      "69/69 [==============================] - 1s 9ms/step - loss: 0.3359 - accuracy: 0.8591\n"
     ]
    }
   ],
   "source": [
    "test_loss, test_acc = model.evaluate(X_test, y_test)\n"
   ]
  },
  {
   "cell_type": "code",
   "execution_count": 13,
   "id": "460e33ad",
   "metadata": {},
   "outputs": [
    {
     "name": "stdout",
     "output_type": "stream",
     "text": [
      "Train Accuracy: 0.9231818318367004\n",
      "Test Accuracy: 0.8590909242630005\n"
     ]
    }
   ],
   "source": [
    "print(f\"Train Accuracy: {train_acc}\")\n",
    "print(f\"Test Accuracy: {test_acc}\")\n"
   ]
  },
  {
   "cell_type": "code",
   "execution_count": 14,
   "id": "2bda49a8",
   "metadata": {},
   "outputs": [
    {
     "name": "stdout",
     "output_type": "stream",
     "text": [
      "275/275 [==============================] - 3s 9ms/step\n"
     ]
    }
   ],
   "source": [
    "y_train_pred = model.predict(X_train)\n",
    "y_train_pred_binary = np.round(y_train_pred).astype(int)\n"
   ]
  },
  {
   "cell_type": "code",
   "execution_count": 15,
   "id": "611b83a1",
   "metadata": {},
   "outputs": [
    {
     "name": "stderr",
     "output_type": "stream",
     "text": [
      "C:\\Users\\nagas\\anaconda3\\lib\\site-packages\\sklearn\\preprocessing\\_label.py:155: DataConversionWarning: A column-vector y was passed when a 1d array was expected. Please change the shape of y to (n_samples, ), for example using ravel().\n",
      "  y = column_or_1d(y, warn=True)\n"
     ]
    }
   ],
   "source": [
    "y_train_original = label_encoder.inverse_transform(y_train)\n",
    "y_train_pred_original = label_encoder.inverse_transform(y_train_pred_binary)\n"
   ]
  },
  {
   "cell_type": "code",
   "execution_count": 16,
   "id": "c219e37b",
   "metadata": {},
   "outputs": [
    {
     "name": "stdout",
     "output_type": "stream",
     "text": [
      "69/69 [==============================] - 1s 9ms/step\n"
     ]
    },
    {
     "name": "stderr",
     "output_type": "stream",
     "text": [
      "C:\\Users\\nagas\\anaconda3\\lib\\site-packages\\sklearn\\preprocessing\\_label.py:155: DataConversionWarning: A column-vector y was passed when a 1d array was expected. Please change the shape of y to (n_samples, ), for example using ravel().\n",
      "  y = column_or_1d(y, warn=True)\n"
     ]
    }
   ],
   "source": [
    "y_pred = model.predict(X_test)\n",
    "y_pred_binary = np.round(y_pred).astype(int)\n",
    "\n",
    "# Convert numerical labels back to original labels\n",
    "y_test_original = label_encoder.inverse_transform(y_test)\n",
    "y_pred_original = label_encoder.inverse_transform(y_pred_binary)\n"
   ]
  },
  {
   "cell_type": "code",
   "execution_count": 17,
   "id": "b10d6401",
   "metadata": {},
   "outputs": [
    {
     "name": "stdout",
     "output_type": "stream",
     "text": [
      "Train Classification Report:\n",
      "              precision    recall  f1-score   support\n",
      "\n",
      "        fake       0.88      0.97      0.93      4408\n",
      "        real       0.97      0.87      0.92      4392\n",
      "\n",
      "    accuracy                           0.92      8800\n",
      "   macro avg       0.93      0.92      0.92      8800\n",
      "weighted avg       0.93      0.92      0.92      8800\n",
      "\n",
      "Train Confusion Matrix:\n",
      "[[4296  112]\n",
      " [ 564 3828]]\n"
     ]
    }
   ],
   "source": [
    "from sklearn.metrics import classification_report, confusion_matrix\n",
    "\n",
    "print(\"Train Classification Report:\")\n",
    "print(classification_report(y_train_original, y_train_pred_original))\n",
    "\n",
    "\n",
    "print(\"Train Confusion Matrix:\")\n",
    "print(confusion_matrix(y_train_original, y_train_pred_original))\n",
    "\n",
    "train_cm = cm = confusion_matrix(y_train_original, y_train_pred_original)\n"
   ]
  },
  {
   "cell_type": "code",
   "execution_count": 18,
   "id": "5894546b",
   "metadata": {},
   "outputs": [
    {
     "name": "stdout",
     "output_type": "stream",
     "text": [
      "Test Classification Report:\n",
      "              precision    recall  f1-score   support\n",
      "\n",
      "        fake       0.81      0.93      0.87      1092\n",
      "        real       0.92      0.79      0.85      1108\n",
      "\n",
      "    accuracy                           0.86      2200\n",
      "   macro avg       0.87      0.86      0.86      2200\n",
      "weighted avg       0.87      0.86      0.86      2200\n",
      "\n",
      "TestConfusion Matrix:\n",
      "[[1019   73]\n",
      " [ 237  871]]\n"
     ]
    }
   ],
   "source": [
    "\n",
    "print(\"Test Classification Report:\")\n",
    "print(classification_report(y_test_original, y_pred_original))\n",
    "\n",
    "# Generate a confusion matrix\n",
    "print(\"TestConfusion Matrix:\")\n",
    "print(confusion_matrix(y_test_original, y_pred_original))\n",
    "\n",
    "test_cm = confusion_matrix(y_test_original, y_pred_original)\n"
   ]
  },
  {
   "cell_type": "code",
   "execution_count": 19,
   "id": "c86f947c",
   "metadata": {},
   "outputs": [
    {
     "data": {
      "image/png": "[encoded data removed]",
      "text/plain": [
       "<Figure size 576x432 with 2 Axes>"
      ]
     },
     "metadata": {
      "needs_background": "light"
     },
     "output_type": "display_data"
    },
    {
     "data": {
      "image/png": "[encoded data removed]",
      "text/plain": [
       "<Figure size 576x432 with 2 Axes>"
      ]
     },
     "metadata": {
      "needs_background": "light"
     },
     "output_type": "display_data"
    }
   ],
   "source": [
    "import matplotlib.pyplot as plt\n",
    "import seaborn as sns\n",
    "\n",
    "plt.figure(figsize=(8, 6))\n",
    "sns.heatmap(train_cm, annot=True, fmt=\"d\", cmap=\"Blues\", xticklabels=['Fake', 'Real'], yticklabels=['Fake', 'Real'])\n",
    "plt.title('Train Confusion Matrix')\n",
    "plt.xlabel('Predicted')\n",
    "plt.ylabel('Actual')\n",
    "plt.show()\n",
    "\n",
    "plt.figure(figsize=(8, 6))\n",
    "sns.heatmap(test_cm, annot=True, fmt=\"d\", cmap=\"Blues\", xticklabels=['Fake', 'Real'], yticklabels=['Fake', 'Real'])\n",
    "plt.title('Test Confusion Matrix')\n",
    "plt.xlabel('Predicted')\n",
    "plt.ylabel('Actual')\n",
    "plt.show()\n"
   ]
  },
  {
   "cell_type": "markdown",
   "id": "a658ff44",
   "metadata": {},
   "source": [
    "Test: 957 true negatives (real images correctly identified), 956 true positives (fake images correctly identified), 135 false positives (real images incorrectly identified as fake), and 152 false negatives (fake images incorrectly identified as real)."
   ]
  },
  {
   "cell_type": "markdown",
   "id": "9dedbfa1",
   "metadata": {},
   "source": [
    "## New Model with Additional Convolutional Layer"
   ]
  },
  {
   "cell_type": "code",
   "execution_count": 20,
   "id": "7846c711",
   "metadata": {},
   "outputs": [],
   "source": [
    "from tensorflow.keras import layers, models\n",
    "\n",
    "# new model\n",
    "new_model = models.Sequential()\n",
    "\n",
    "# Adding one additional convolutional layer\n",
    "new_model.add(layers.Conv2D(32, (3, 3), activation=\"relu\", input_shape=(32, 32, 1)))\n",
    "new_model.add(layers.MaxPooling2D((2, 2)))\n",
    "new_model.add(layers.Conv2D(64, (3, 3), activation=\"relu\"))\n",
    "new_model.add(layers.MaxPooling2D((2, 2)))\n",
    "new_model.add(layers.Conv2D(128, (3, 3), activation=\"relu\"))\n",
    "new_model.add(layers.MaxPooling2D((2, 2)))\n",
    "\n",
    "new_model.add(layers.Flatten())\n",
    "\n",
    "# adding 2 new Dense layers with dropout\n",
    "new_model.add(layers.Dense(256, activation=\"relu\"))\n",
    "new_model.add(layers.Dropout(0.5))  \n",
    "new_model.add(layers.Dense(128, activation=\"relu\"))\n",
    "new_model.add(layers.Dropout(0.5)) \n",
    "new_model.add(layers.Dense(64, activation=\"relu\"))\n",
    "\n"
   ]
  },
  {
   "cell_type": "code",
   "execution_count": 21,
   "id": "e9acf5e5",
   "metadata": {},
   "outputs": [],
   "source": [
    "\n",
    "new_model.add(layers.Dense(1, activation=\"sigmoid\"))\n"
   ]
  },
  {
   "cell_type": "code",
   "execution_count": 22,
   "id": "96d7edd4",
   "metadata": {},
   "outputs": [
    {
     "name": "stdout",
     "output_type": "stream",
     "text": [
      "Model: \"sequential_1\"\n",
      "_________________________________________________________________\n",
      " Layer (type)                Output Shape              Param #   \n",
      "=================================================================\n",
      " conv2d_3 (Conv2D)           (None, 30, 30, 32)        320       \n",
      "                                                                 \n",
      " max_pooling2d_2 (MaxPooling  (None, 15, 15, 32)       0         \n",
      " 2D)                                                             \n",
      "                                                                 \n",
      " conv2d_4 (Conv2D)           (None, 13, 13, 64)        18496     \n",
      "                                                                 \n",
      " max_pooling2d_3 (MaxPooling  (None, 6, 6, 64)         0         \n",
      " 2D)                                                             \n",
      "                                                                 \n",
      " conv2d_5 (Conv2D)           (None, 4, 4, 128)         73856     \n",
      "                                                                 \n",
      " max_pooling2d_4 (MaxPooling  (None, 2, 2, 128)        0         \n",
      " 2D)                                                             \n",
      "                                                                 \n",
      " flatten_1 (Flatten)         (None, 512)               0         \n",
      "                                                                 \n",
      " dense_2 (Dense)             (None, 256)               131328    \n",
      "                                                                 \n",
      " dropout (Dropout)           (None, 256)               0         \n",
      "                                                                 \n",
      " dense_3 (Dense)             (None, 128)               32896     \n",
      "                                                                 \n",
      " dropout_1 (Dropout)         (None, 128)               0         \n",
      "                                                                 \n",
      " dense_4 (Dense)             (None, 64)                8256      \n",
      "                                                                 \n",
      " dense_5 (Dense)             (None, 1)                 65        \n",
      "                                                                 \n",
      "=================================================================\n",
      "Total params: 265,217\n",
      "Trainable params: 265,217\n",
      "Non-trainable params: 0\n",
      "_________________________________________________________________\n"
     ]
    }
   ],
   "source": [
    "\n",
    "new_model.compile(optimizer=\"adam\", loss=\"binary_crossentropy\", metrics=[\"accuracy\"])\n",
    "\n",
    "new_model.summary()"
   ]
  },
  {
   "cell_type": "code",
   "execution_count": 23,
   "id": "9e912125",
   "metadata": {},
   "outputs": [
    {
     "name": "stdout",
     "output_type": "stream",
     "text": [
      "Epoch 1/10\n",
      "275/275 [==============================] - 10s 30ms/step - loss: 0.6041 - accuracy: 0.6711 - val_loss: 0.5389 - val_accuracy: 0.7186\n",
      "Epoch 2/10\n",
      "275/275 [==============================] - 8s 28ms/step - loss: 0.5135 - accuracy: 0.7522 - val_loss: 0.4946 - val_accuracy: 0.7377\n",
      "Epoch 3/10\n",
      "275/275 [==============================] - 8s 28ms/step - loss: 0.4486 - accuracy: 0.7980 - val_loss: 0.4051 - val_accuracy: 0.8232\n",
      "Epoch 4/10\n",
      "275/275 [==============================] - 8s 29ms/step - loss: 0.4134 - accuracy: 0.8200 - val_loss: 0.3932 - val_accuracy: 0.8195\n",
      "Epoch 5/10\n",
      "275/275 [==============================] - 9s 33ms/step - loss: 0.3786 - accuracy: 0.8411 - val_loss: 0.3622 - val_accuracy: 0.8482\n",
      "Epoch 6/10\n",
      "275/275 [==============================] - 12s 42ms/step - loss: 0.3582 - accuracy: 0.8473 - val_loss: 0.4043 - val_accuracy: 0.8205\n",
      "Epoch 7/10\n",
      "275/275 [==============================] - 13s 46ms/step - loss: 0.3290 - accuracy: 0.8622 - val_loss: 0.3644 - val_accuracy: 0.8486\n",
      "Epoch 8/10\n",
      "275/275 [==============================] - 12s 43ms/step - loss: 0.3057 - accuracy: 0.8705 - val_loss: 0.3360 - val_accuracy: 0.8591\n",
      "Epoch 9/10\n",
      "275/275 [==============================] - 13s 46ms/step - loss: 0.2695 - accuracy: 0.8908 - val_loss: 0.3161 - val_accuracy: 0.8695\n",
      "Epoch 10/10\n",
      "275/275 [==============================] - 11s 41ms/step - loss: 0.2335 - accuracy: 0.9091 - val_loss: 0.3640 - val_accuracy: 0.8364\n"
     ]
    },
    {
     "data": {
      "text/plain": [
       "<keras.callbacks.History at 0x1592be91520>"
      ]
     },
     "execution_count": 23,
     "metadata": {},
     "output_type": "execute_result"
    }
   ],
   "source": [
    "new_model.fit(X_train, y_train, epochs=10, validation_data=(X_test, y_test))\n"
   ]
  },
  {
   "cell_type": "code",
   "execution_count": 24,
   "id": "d8c52144",
   "metadata": {},
   "outputs": [
    {
     "name": "stdout",
     "output_type": "stream",
     "text": [
      "275/275 [==============================] - 4s 15ms/step - loss: 0.2303 - accuracy: 0.8974\n"
     ]
    }
   ],
   "source": [
    "train_loss, train_acc = new_model.evaluate(X_train, y_train)\n"
   ]
  },
  {
   "cell_type": "code",
   "execution_count": 25,
   "id": "4b4429b4",
   "metadata": {},
   "outputs": [
    {
     "name": "stdout",
     "output_type": "stream",
     "text": [
      "69/69 [==============================] - 1s 11ms/step - loss: 0.3359 - accuracy: 0.8591\n"
     ]
    }
   ],
   "source": [
    "test_loss, test_acc = model.evaluate(X_test, y_test)\n"
   ]
  },
  {
   "cell_type": "code",
   "execution_count": 26,
   "id": "15b91410",
   "metadata": {},
   "outputs": [
    {
     "name": "stdout",
     "output_type": "stream",
     "text": [
      "275/275 [==============================] - 3s 11ms/step\n"
     ]
    }
   ],
   "source": [
    "y_train_pred = new_model.predict(X_train)\n",
    "y_train_pred_binary = np.round(y_train_pred).astype(int)\n"
   ]
  },
  {
   "cell_type": "code",
   "execution_count": 27,
   "id": "5ede7760",
   "metadata": {},
   "outputs": [
    {
     "name": "stderr",
     "output_type": "stream",
     "text": [
      "C:\\Users\\nagas\\anaconda3\\lib\\site-packages\\sklearn\\preprocessing\\_label.py:155: DataConversionWarning: A column-vector y was passed when a 1d array was expected. Please change the shape of y to (n_samples, ), for example using ravel().\n",
      "  y = column_or_1d(y, warn=True)\n"
     ]
    }
   ],
   "source": [
    "y_train_original = label_encoder.inverse_transform(y_train)\n",
    "y_train_pred_original = label_encoder.inverse_transform(y_train_pred_binary)\n"
   ]
  },
  {
   "cell_type": "code",
   "execution_count": 28,
   "id": "c554983b",
   "metadata": {},
   "outputs": [
    {
     "name": "stdout",
     "output_type": "stream",
     "text": [
      "Train Classification Report:\n",
      "              precision    recall  f1-score   support\n",
      "\n",
      "        fake       0.84      0.98      0.91      4408\n",
      "        real       0.97      0.82      0.89      4392\n",
      "\n",
      "    accuracy                           0.90      8800\n",
      "   macro avg       0.91      0.90      0.90      8800\n",
      "weighted avg       0.91      0.90      0.90      8800\n",
      "\n",
      "Train Confusion Matrix:\n",
      "[[4314   94]\n",
      " [ 809 3583]]\n"
     ]
    }
   ],
   "source": [
    "from sklearn.metrics import classification_report, confusion_matrix\n",
    "\n",
    "print(\"Train Classification Report:\")\n",
    "print(classification_report(y_train_original, y_train_pred_original))\n",
    "\n",
    "\n",
    "print(\"Train Confusion Matrix:\")\n",
    "print(confusion_matrix(y_train_original, y_train_pred_original))"
   ]
  },
  {
   "cell_type": "code",
   "execution_count": 29,
   "id": "a49b4b86",
   "metadata": {},
   "outputs": [
    {
     "name": "stdout",
     "output_type": "stream",
     "text": [
      "69/69 [==============================] - 1s 12ms/step\n"
     ]
    },
    {
     "name": "stderr",
     "output_type": "stream",
     "text": [
      "C:\\Users\\nagas\\anaconda3\\lib\\site-packages\\sklearn\\preprocessing\\_label.py:155: DataConversionWarning: A column-vector y was passed when a 1d array was expected. Please change the shape of y to (n_samples, ), for example using ravel().\n",
      "  y = column_or_1d(y, warn=True)\n"
     ]
    }
   ],
   "source": [
    "y_pred = new_model.predict(X_test)\n",
    "y_pred_binary = np.round(y_pred).astype(int)\n",
    "\n",
    "y_test_original = label_encoder.inverse_transform(y_test)\n",
    "y_pred_original = label_encoder.inverse_transform(y_pred_binary)\n"
   ]
  },
  {
   "cell_type": "code",
   "execution_count": 30,
   "id": "2051d16b",
   "metadata": {},
   "outputs": [
    {
     "name": "stdout",
     "output_type": "stream",
     "text": [
      "Test Classification Report:\n",
      "              precision    recall  f1-score   support\n",
      "\n",
      "        fake       0.78      0.93      0.85      1092\n",
      "        real       0.91      0.75      0.82      1108\n",
      "\n",
      "    accuracy                           0.84      2200\n",
      "   macro avg       0.85      0.84      0.84      2200\n",
      "weighted avg       0.85      0.84      0.84      2200\n",
      "\n",
      "TestConfusion Matrix:\n",
      "[[1014   78]\n",
      " [ 282  826]]\n"
     ]
    }
   ],
   "source": [
    "\n",
    "print(\"Test Classification Report:\")\n",
    "print(classification_report(y_test_original, y_pred_original))\n",
    "\n",
    "# Generate a confusion matrix\n",
    "print(\"TestConfusion Matrix:\")\n",
    "print(confusion_matrix(y_test_original, y_pred_original))\n",
    "\n",
    "new_test_cm = confusion_matrix(y_test_original, y_pred_original)"
   ]
  },
  {
   "cell_type": "code",
   "execution_count": 31,
   "id": "9c010093",
   "metadata": {},
   "outputs": [
    {
     "data": {
      "image/png": "[encoded data removed]",
      "text/plain": [
       "<Figure size 576x432 with 2 Axes>"
      ]
     },
     "metadata": {
      "needs_background": "light"
     },
     "output_type": "display_data"
    }
   ],
   "source": [
    "plt.figure(figsize=(8, 6))\n",
    "sns.heatmap(new_test_cm, annot=True, fmt=\"d\", cmap=\"Blues\", xticklabels=['Fake', 'Real'], yticklabels=['Fake', 'Real'])\n",
    "plt.title('New Model Test Confusion Matrix')\n",
    "plt.xlabel('Predicted')\n",
    "plt.ylabel('Actual')\n",
    "plt.show()"
   ]
  },
  {
   "cell_type": "markdown",
   "id": "eb97136a",
   "metadata": {},
   "source": [
    "## VGG"
   ]
  },
  {
   "cell_type": "code",
   "execution_count": 32,
   "id": "1f19eab7",
   "metadata": {},
   "outputs": [],
   "source": [
    "import tensorflow as tf\n",
    "\n",
    "X_train_rgb = tf.image.grayscale_to_rgb(tf.convert_to_tensor(X_train))\n",
    "X_test_rgb = tf.image.grayscale_to_rgb(tf.convert_to_tensor(X_test))\n"
   ]
  },
  {
   "cell_type": "code",
   "execution_count": 33,
   "id": "541e8539",
   "metadata": {},
   "outputs": [
    {
     "name": "stdout",
     "output_type": "stream",
     "text": [
      "Model: \"sequential_2\"\n",
      "_________________________________________________________________\n",
      " Layer (type)                Output Shape              Param #   \n",
      "=================================================================\n",
      " vgg16 (Functional)          (None, 1, 1, 512)         14714688  \n",
      "                                                                 \n",
      " global_average_pooling2d (G  (None, 512)              0         \n",
      " lobalAveragePooling2D)                                          \n",
      "                                                                 \n",
      " dense_6 (Dense)             (None, 256)               131328    \n",
      "                                                                 \n",
      " dense_7 (Dense)             (None, 1)                 257       \n",
      "                                                                 \n",
      "=================================================================\n",
      "Total params: 14,846,273\n",
      "Trainable params: 14,846,273\n",
      "Non-trainable params: 0\n",
      "_________________________________________________________________\n"
     ]
    }
   ],
   "source": [
    "from tensorflow.keras.applications import VGG16\n",
    "from tensorflow.keras.models import Sequential\n",
    "from tensorflow.keras.layers import Dense, Flatten, GlobalAveragePooling2D\n",
    "from tensorflow.keras.optimizers import Adam\n",
    "\n",
    "base_model_vgg = tf.keras.applications.VGG16(weights='imagenet', include_top=False, input_shape=(32, 32, 3))\n",
    "\n",
    "model_vgg = Sequential()\n",
    "model_vgg.add(base_model_vgg)\n",
    "model_vgg.add(GlobalAveragePooling2D())\n",
    "model_vgg.add(Dense(256, activation='relu'))\n",
    "\n",
    "model_vgg.add(Dense(1, activation='sigmoid'))\n",
    "\n",
    "model_vgg.compile(optimizer=Adam(learning_rate=0.001), loss='binary_crossentropy', metrics=['accuracy'])\n",
    "\n",
    "model_vgg.summary()\n"
   ]
  },
  {
   "cell_type": "code",
   "execution_count": 34,
   "id": "b15bbf89",
   "metadata": {},
   "outputs": [
    {
     "name": "stdout",
     "output_type": "stream",
     "text": [
      "Epoch 1/10\n"
     ]
    },
    {
     "ename": "ValueError",
     "evalue": "in user code:\n\n    File \"C:\\Users\\nagas\\anaconda3\\lib\\site-packages\\keras\\engine\\training.py\", line 1284, in train_function  *\n        return step_function(self, iterator)\n    File \"C:\\Users\\nagas\\anaconda3\\lib\\site-packages\\keras\\engine\\training.py\", line 1268, in step_function  **\n        outputs = model.distribute_strategy.run(run_step, args=(data,))\n    File \"C:\\Users\\nagas\\anaconda3\\lib\\site-packages\\keras\\engine\\training.py\", line 1249, in run_step  **\n        outputs = model.train_step(data)\n    File \"C:\\Users\\nagas\\anaconda3\\lib\\site-packages\\keras\\engine\\training.py\", line 1050, in train_step\n        y_pred = self(x, training=True)\n    File \"C:\\Users\\nagas\\anaconda3\\lib\\site-packages\\keras\\utils\\traceback_utils.py\", line 70, in error_handler\n        raise e.with_traceback(filtered_tb) from None\n    File \"C:\\Users\\nagas\\anaconda3\\lib\\site-packages\\keras\\engine\\input_spec.py\", line 280, in assert_input_compatibility\n        raise ValueError(\n\n    ValueError: Exception encountered when calling layer 'vgg16' (type Functional).\n    \n    Input 0 of layer \"block1_conv1\" is incompatible with the layer: expected axis -1 of input shape to have value 3, but received input with shape (32, 32, 32, 1)\n    \n    Call arguments received by layer 'vgg16' (type Functional):\n      • inputs=tf.Tensor(shape=(32, 32, 32, 1), dtype=float32)\n      • training=True\n      • mask=None\n",
     "output_type": "error",
     "traceback": [
      "\u001b[1;31m---------------------------------------------------------------------------\u001b[0m",
      "\u001b[1;31mValueError\u001b[0m                                Traceback (most recent call last)",
      "Input \u001b[1;32mIn [34]\u001b[0m, in \u001b[0;36m<cell line: 1>\u001b[1;34m()\u001b[0m\n\u001b[1;32m----> 1\u001b[0m history_vgg \u001b[38;5;241m=\u001b[39m \u001b[43mmodel_vgg\u001b[49m\u001b[38;5;241;43m.\u001b[39;49m\u001b[43mfit\u001b[49m\u001b[43m(\u001b[49m\u001b[43mX_train\u001b[49m\u001b[43m,\u001b[49m\u001b[43m \u001b[49m\u001b[43my_train\u001b[49m\u001b[43m,\u001b[49m\u001b[43m \u001b[49m\u001b[43mepochs\u001b[49m\u001b[38;5;241;43m=\u001b[39;49m\u001b[38;5;241;43m10\u001b[39;49m\u001b[43m,\u001b[49m\u001b[43m \u001b[49m\u001b[43mbatch_size\u001b[49m\u001b[38;5;241;43m=\u001b[39;49m\u001b[38;5;241;43m32\u001b[39;49m\u001b[43m,\u001b[49m\u001b[43m \u001b[49m\u001b[43mvalidation_data\u001b[49m\u001b[38;5;241;43m=\u001b[39;49m\u001b[43m(\u001b[49m\u001b[43mX_test\u001b[49m\u001b[43m,\u001b[49m\u001b[43m \u001b[49m\u001b[43my_test\u001b[49m\u001b[43m)\u001b[49m\u001b[43m)\u001b[49m\n",
      "File \u001b[1;32m~\\anaconda3\\lib\\site-packages\\keras\\utils\\traceback_utils.py:70\u001b[0m, in \u001b[0;36mfilter_traceback.<locals>.error_handler\u001b[1;34m(*args, **kwargs)\u001b[0m\n\u001b[0;32m     67\u001b[0m     filtered_tb \u001b[38;5;241m=\u001b[39m _process_traceback_frames(e\u001b[38;5;241m.\u001b[39m__traceback__)\n\u001b[0;32m     68\u001b[0m     \u001b[38;5;66;03m# To get the full stack trace, call:\u001b[39;00m\n\u001b[0;32m     69\u001b[0m     \u001b[38;5;66;03m# `tf.debugging.disable_traceback_filtering()`\u001b[39;00m\n\u001b[1;32m---> 70\u001b[0m     \u001b[38;5;28;01mraise\u001b[39;00m e\u001b[38;5;241m.\u001b[39mwith_traceback(filtered_tb) \u001b[38;5;28;01mfrom\u001b[39;00m \u001b[38;5;28mNone\u001b[39m\n\u001b[0;32m     71\u001b[0m \u001b[38;5;28;01mfinally\u001b[39;00m:\n\u001b[0;32m     72\u001b[0m     \u001b[38;5;28;01mdel\u001b[39;00m filtered_tb\n",
      "File \u001b[1;32m~\\AppData\\Local\\Temp\\__autograph_generated_filec8fd20id.py:15\u001b[0m, in \u001b[0;36mouter_factory.<locals>.inner_factory.<locals>.tf__train_function\u001b[1;34m(iterator)\u001b[0m\n\u001b[0;32m     13\u001b[0m \u001b[38;5;28;01mtry\u001b[39;00m:\n\u001b[0;32m     14\u001b[0m     do_return \u001b[38;5;241m=\u001b[39m \u001b[38;5;28;01mTrue\u001b[39;00m\n\u001b[1;32m---> 15\u001b[0m     retval_ \u001b[38;5;241m=\u001b[39m ag__\u001b[38;5;241m.\u001b[39mconverted_call(ag__\u001b[38;5;241m.\u001b[39mld(step_function), (ag__\u001b[38;5;241m.\u001b[39mld(\u001b[38;5;28mself\u001b[39m), ag__\u001b[38;5;241m.\u001b[39mld(iterator)), \u001b[38;5;28;01mNone\u001b[39;00m, fscope)\n\u001b[0;32m     16\u001b[0m \u001b[38;5;28;01mexcept\u001b[39;00m:\n\u001b[0;32m     17\u001b[0m     do_return \u001b[38;5;241m=\u001b[39m \u001b[38;5;28;01mFalse\u001b[39;00m\n",
      "\u001b[1;31mValueError\u001b[0m: in user code:\n\n    File \"C:\\Users\\nagas\\anaconda3\\lib\\site-packages\\keras\\engine\\training.py\", line 1284, in train_function  *\n        return step_function(self, iterator)\n    File \"C:\\Users\\nagas\\anaconda3\\lib\\site-packages\\keras\\engine\\training.py\", line 1268, in step_function  **\n        outputs = model.distribute_strategy.run(run_step, args=(data,))\n    File \"C:\\Users\\nagas\\anaconda3\\lib\\site-packages\\keras\\engine\\training.py\", line 1249, in run_step  **\n        outputs = model.train_step(data)\n    File \"C:\\Users\\nagas\\anaconda3\\lib\\site-packages\\keras\\engine\\training.py\", line 1050, in train_step\n        y_pred = self(x, training=True)\n    File \"C:\\Users\\nagas\\anaconda3\\lib\\site-packages\\keras\\utils\\traceback_utils.py\", line 70, in error_handler\n        raise e.with_traceback(filtered_tb) from None\n    File \"C:\\Users\\nagas\\anaconda3\\lib\\site-packages\\keras\\engine\\input_spec.py\", line 280, in assert_input_compatibility\n        raise ValueError(\n\n    ValueError: Exception encountered when calling layer 'vgg16' (type Functional).\n    \n    Input 0 of layer \"block1_conv1\" is incompatible with the layer: expected axis -1 of input shape to have value 3, but received input with shape (32, 32, 32, 1)\n    \n    Call arguments received by layer 'vgg16' (type Functional):\n      • inputs=tf.Tensor(shape=(32, 32, 32, 1), dtype=float32)\n      • training=True\n      • mask=None\n"
     ]
    }
   ],
   "source": [
    "history_vgg = model_vgg.fit(X_train, y_train, epochs=10, batch_size=32, validation_data=(X_test, y_test))\n"
   ]
  },
  {
   "cell_type": "code",
   "execution_count": null,
   "id": "ea45584c",
   "metadata": {},
   "outputs": [],
   "source": []
  }
 ],
 "metadata": {
  "kernelspec": {
   "display_name": "Python 3 (ipykernel)",
   "language": "python",
   "name": "python3"
  },
  "language_info": {
   "codemirror_mode": {
    "name": "ipython",
    "version": 3
   },
   "file_extension": ".py",
   "mimetype": "text/x-python",
   "name": "python",
   "nbconvert_exporter": "python",
   "pygments_lexer": "ipython3",
   "version": "3.9.12"
  }
 },
 "nbformat": 4,
 "nbformat_minor": 5
}
